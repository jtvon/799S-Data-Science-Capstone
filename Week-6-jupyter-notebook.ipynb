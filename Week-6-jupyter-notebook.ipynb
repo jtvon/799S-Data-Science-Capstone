{
 "cells": [
  {
   "cell_type": "markdown",
   "id": "144e2398",
   "metadata": {},
   "source": [
    "## Week 6 notebook"
   ]
  },
  {
   "cell_type": "markdown",
   "id": "c8ea1be0",
   "metadata": {},
   "source": [
    "Include concepts such as decision trees and random forests on your datasets"
   ]
  },
  {
   "cell_type": "code",
   "execution_count": 1,
   "id": "ad12ec1e",
   "metadata": {},
   "outputs": [],
   "source": [
    "import pandas as pd\n",
    "import numpy as np\n",
    "import os\n",
    "import sys\n",
    "import matplotlib.pyplot as plt\n",
    "import seaborn as sns\n",
    "\n",
    "# Import feature engineering and selection libraries\n",
    "from sklearn.ensemble import RandomForestClassifier, RandomForestRegressor\n",
    "from sklearn.tree import DecisionTreeClassifier, DecisionTreeRegressor\n",
    "\n",
    "# data preprocesing\n",
    "from sklearn.model_selection import train_test_split, GridSearchCV, RepeatedStratifiedKFold\n",
    "from sklearn.preprocessing import StandardScaler, MinMaxScaler\n",
    "\n",
    "# Classification metrics\n",
    "from sklearn.metrics import ConfusionMatrixDisplay, confusion_matrix, accuracy_score, f1_score, classification_report\n",
    "\n",
    "# Regression metrics\n",
    "from sklearn.metrics import root_mean_squared_error, r2_score\n",
    "\n",
    "random_state = 0"
   ]
  },
  {
   "cell_type": "code",
   "execution_count": 2,
   "id": "bc0febbd",
   "metadata": {},
   "outputs": [],
   "source": [
    "# encode categorical features\n",
    "def encode_categories(df: pd.DataFrame):\n",
    "    df_encoded = df.copy()\n",
    "    mappings = {}\n",
    "    cat_cols = df_encoded.select_dtypes(include=['object', 'category']).columns.tolist()\n",
    "    \n",
    "    for col in cat_cols:\n",
    "        # get the unique categories (in order of appearance)\n",
    "        uniques = df_encoded[col].dropna().unique().tolist()\n",
    "        # build a mapping: category -> code\n",
    "        mapping = {cat: code for code, cat in enumerate(uniques)}\n",
    "        mappings[col] = mapping\n",
    "\n",
    "        # map (leave NaN as NaN)\n",
    "        df_encoded[col] = df_encoded[col].map(mapping).astype(\"int64\")\n",
    "\n",
    "    return df_encoded, mappings"
   ]
  },
  {
   "cell_type": "code",
   "execution_count": 3,
   "id": "99fd60b3",
   "metadata": {},
   "outputs": [],
   "source": [
    "# # Create a function to load and split data\n",
    "# def load_and_split_data(file_path, test_size=0.2, target_col: str = None, random_state=random_state, choice='norm'):\n",
    "\n",
    "#     # Read and Encode catigorical features\n",
    "#     df = pd.read_csv(file_path)\n",
    "#     df_encoded, _ = encode_categories(pd.read_csv(file_path))\n",
    "\n",
    "#     if target_col is None:\n",
    "#         target_col = df_encoded.columns[-1]\n",
    "#     X = df_encoded.drop(columns=[target_col])\n",
    "#     y = df_encoded[target_col]\n",
    "\n",
    "#     # Train and test split\n",
    "#     X_train, X_test, y_train, y_test = train_test_split(X, y, test_size=test_size, random_state=random_state)\n",
    "\n",
    "#     # reshaye y to 1D array\n",
    "#     y_train = y_train.values.ravel()\n",
    "#     y_test = y_test.values.ravel()\n",
    "\n",
    "#     if choice == 'reg':\n",
    "#         # Regularize the features\n",
    "#         scaler = StandardScaler()\n",
    "#         X_train_scaled = scaler.fit_transform(X_train)\n",
    "#         X_test_scaled = scaler.transform(X_test)\n",
    "\n",
    "#         # Convert scaled features back to DataFrames\n",
    "#         X_train_scaled = pd.DataFrame(X_train_scaled, columns=X_train.columns)\n",
    "#         X_test_scaled = pd.DataFrame(X_test_scaled, columns=X_train.columns)\n",
    "\n",
    "#     else:\n",
    "#         # Bormalize the features\n",
    "#         scaler = MinMaxScaler()\n",
    "#         X_train_scaled = scaler.fit_transform(X_train)\n",
    "#         X_test_scaled = scaler.transform(X_test)\n",
    "\n",
    "#         # Convert scaled features back to DataFrames\n",
    "#         X_train_scaled = pd.DataFrame(X_train_scaled, columns=X_train.columns)\n",
    "#         X_test_scaled = pd.DataFrame(X_test_scaled, columns=X_train.columns)\n",
    "\n",
    "#     return X_train_scaled, X_test_scaled, y_train, y_test, df"
   ]
  },
  {
   "cell_type": "code",
   "execution_count": 4,
   "id": "811b7f73",
   "metadata": {},
   "outputs": [],
   "source": [
    "def load_and_split_data(\n",
    "    file_path: str,\n",
    "    target_col: str = None,\n",
    "    test_size: float = 0.2,\n",
    "    random_state: int = 0,\n",
    "    scaling: str = 'norm'\n",
    "):\n",
    "    \"\"\"\n",
    "    Loads data, encodes categorical features, splits into train/test, and scales features.\n",
    "\n",
    "    Args:\n",
    "        file_path: Path to CSV file.\n",
    "        target_col: Name of target column. If None, uses last column.\n",
    "        test_size: Fraction for test split.\n",
    "        random_state: Random seed.\n",
    "        scaling: 'norm' (MinMax), 'reg' (Standard), or None.\n",
    "\n",
    "    Returns:\n",
    "        X_train, X_test, y_train, y_test, df_encoded, mappings\n",
    "    \"\"\"\n",
    "    df = pd.read_csv(file_path)\n",
    "    df_encoded, mappings = encode_categories(df)\n",
    "\n",
    "    # Select target\n",
    "    if target_col is None:\n",
    "        target_col = df_encoded.columns[-1]\n",
    "    X = df_encoded.drop(columns=[target_col])\n",
    "    y = df_encoded[target_col]\n",
    "\n",
    "    # Split\n",
    "    X_train, X_test, y_train, y_test = train_test_split(\n",
    "        X, y, test_size=test_size, random_state=random_state\n",
    "    )\n",
    "\n",
    "    # Reset indices\n",
    "    X_train = X_train.reset_index(drop=True)\n",
    "    X_test = X_test.reset_index(drop=True)\n",
    "    y_train = y_train.reset_index(drop=True)\n",
    "    y_test = y_test.reset_index(drop=True)\n",
    "\n",
    "    # Scaling\n",
    "    if scaling == 'reg':\n",
    "        scaler = StandardScaler()\n",
    "    elif scaling == 'norm':\n",
    "        scaler = MinMaxScaler()\n",
    "    else:\n",
    "        scaler = None\n",
    "\n",
    "    if scaler is not None:\n",
    "        X_train = pd.DataFrame(scaler.fit_transform(X_train), columns=X_train.columns)\n",
    "        X_test = pd.DataFrame(scaler.transform(X_test), columns=X_test.columns)\n",
    "\n",
    "    return X_train, X_test, y_train, y_test, df_encoded, mappings\n"
   ]
  },
  {
   "cell_type": "code",
   "execution_count": 5,
   "id": "55444257",
   "metadata": {},
   "outputs": [],
   "source": [
    "def gridsearchcv(model, X_train, y_train, param_dict=None, random_state=random_state, scoring='accuracy', cv=None):\n",
    "    \"\"\"\n",
    "    Generic grid search function for any sklearn model and parameter grid.\n",
    "\n",
    "    Args:\n",
    "        model: The sklearn model class (not an instance), e.g., SVC, RandomForestClassifier, etc.\n",
    "        X_train: Training features.\n",
    "        y_train: Training target.\n",
    "        param_dict: Dictionary of parameter grid for the model.\n",
    "        random_state: Random state for reproducibility.\n",
    "        scoring: Scoring metric for GridSearchCV.\n",
    "        cv: Cross-validation strategy (optional).\n",
    "\n",
    "    Returns:\n",
    "        grid_best_params: Best parameter dictionary.\n",
    "        grid_cv_score: Best cross-validated score.\n",
    "    \"\"\"\n",
    "    # If the model supports random_state, pass it; otherwise, ignore\n",
    "    try:\n",
    "        base_model = model(random_state=random_state)\n",
    "    except TypeError:\n",
    "        base_model = model()\n",
    "\n",
    "    # Use provided cv or default to RepeatedStratifiedKFold for classification\n",
    "    if cv is None:\n",
    "        cv = RepeatedStratifiedKFold(n_splits=5, n_repeats=5, random_state=random_state)\n",
    "\n",
    "    search = GridSearchCV(\n",
    "        estimator=base_model,\n",
    "        param_grid=param_dict,\n",
    "        scoring=scoring,\n",
    "        cv=cv,\n",
    "        n_jobs=-1,\n",
    "        return_train_score=True,\n",
    "        error_score='raise'\n",
    "    )\n",
    "\n",
    "    search.fit(X_train, y_train)\n",
    "\n",
    "    # Extract results into a DataFrame\n",
    "    results = pd.DataFrame(search.cv_results_)\n",
    "\n",
    "    # Print top 5 results (show all param columns dynamically)\n",
    "    param_cols = [col for col in results.columns if col.startswith('param_')]\n",
    "    display_cols = param_cols + [\n",
    "        'mean_test_score', 'std_test_score', 'mean_train_score', 'std_train_score', 'rank_test_score'\n",
    "    ]\n",
    "    results = results[display_cols].sort_values(by='rank_test_score')\n",
    "    renamed_results = results.rename(\n",
    "        columns={col: col.replace('param_', '') for col in param_cols} |\n",
    "                {'mean_test_score': 'mean_cv_score', 'std_test_score': 'std_cv_score'}\n",
    "    ).drop(columns=['rank_test_score'])\n",
    "\n",
    "    print(\"\\nSearch Results (Top 5):\\n\")\n",
    "    print(renamed_results.head(5).to_string(index=False))\n",
    "\n",
    "    # Best parameters and test performance\n",
    "    grid_best_params = search.best_params_\n",
    "    print(f\"\\nBest Parameters: {grid_best_params}\")\n",
    "    grid_cv_score = search.best_score_\n",
    "    print(f\"Best CV Score: {grid_cv_score:.4f}\")\n",
    "\n",
    "    return grid_best_params, grid_cv_score"
   ]
  },
  {
   "cell_type": "code",
   "execution_count": 6,
   "id": "38159d2a",
   "metadata": {},
   "outputs": [],
   "source": [
    "# Load the ins claims dataset\n",
    "X_train_ins_reg, X_test_ins_reg, y_train_ins_reg, y_test_ins_reg, df_ins_reg, ins_reg_mappings = load_and_split_data(r'C:\\Users\\JT von Seggern\\DS Masters Repos\\2025-spring-B2\\data\\insurance_claims_cleaned.csv', scaling='reg')"
   ]
  },
  {
   "cell_type": "code",
   "execution_count": 7,
   "id": "951f349c",
   "metadata": {},
   "outputs": [
    {
     "name": "stdout",
     "output_type": "stream",
     "text": [
      "\n",
      "Search Results (Top 5):\n",
      "\n",
      " max_depth  min_samples_split  n_estimators  mean_cv_score  std_cv_score  mean_train_score  std_train_score\n",
      "         7                  2            10         0.7850      0.024622          0.937438         0.008609\n",
      "         8                  3            10         0.7850      0.018456          0.955937         0.007395\n",
      "         9                  4            10         0.7835      0.020982          0.963938         0.008915\n",
      "         4                  4            10         0.7830      0.019487          0.839688         0.013954\n",
      "         9                  3            10         0.7815      0.019802          0.970438         0.007354\n",
      "\n",
      "Best Parameters: {'max_depth': 7, 'min_samples_split': 2, 'n_estimators': 10}\n",
      "Best CV Score: 0.7850\n"
     ]
    }
   ],
   "source": [
    "# Run Grid search on the ins claims dataset\n",
    "rf_ins_params = {\n",
    "    'n_estimators': [10, 50, 100, 200, 500, 1000],\n",
    "    'max_depth': range(3,20),\n",
    "    'min_samples_split': range(2,5)\n",
    "}\n",
    "\n",
    "ins_reg_rf_grid_best_params, ins_reg_rf_grid_cv_score = gridsearchcv(\n",
    "    RandomForestClassifier, X_train_ins_reg, y_train_ins_reg, param_dict=rf_ins_params, scoring='accuracy')"
   ]
  },
  {
   "cell_type": "code",
   "execution_count": 17,
   "id": "ece3b5d1",
   "metadata": {},
   "outputs": [
    {
     "name": "stdout",
     "output_type": "stream",
     "text": [
      "\n",
      "Search Results (Top 5):\n",
      "\n",
      " max_depth  min_samples_split  mean_cv_score  std_cv_score  mean_train_score  std_train_score\n",
      "         5                  3        0.84075      0.028069          0.922250         0.008020\n",
      "         5                  4        0.84050      0.028069          0.922188         0.008077\n",
      "         5                  5        0.84050      0.028069          0.922125         0.008145\n",
      "         5                  2        0.84025      0.027955          0.922875         0.008063\n",
      "         5                  6        0.83975      0.027776          0.921875         0.008101\n",
      "\n",
      "Best Parameters: {'max_depth': 5, 'min_samples_split': 3}\n",
      "Best CV Score: 0.8407\n"
     ]
    }
   ],
   "source": [
    "# Run Grid search on the ins claims dataset\n",
    "dt_ins_params = {\n",
    "    'max_depth': range(3,20),\n",
    "    'min_samples_split': range(2,10)\n",
    "}\n",
    "\n",
    "ins_reg_dt_grid_best_params, ins_reg_dt_grid_cv_score = gridsearchcv(\n",
    "    DecisionTreeClassifier, X_train_ins_reg, y_train_ins_reg, param_dict=dt_ins_params, scoring='accuracy')"
   ]
  },
  {
   "cell_type": "code",
   "execution_count": 33,
   "id": "fdb97f19",
   "metadata": {},
   "outputs": [],
   "source": [
    "def classifier_model(model_class, X_train, y_train, X_test, y_test, random_state=random_state, **model_params):\n",
    "    \"\"\"\n",
    "    Generic function to fit and evaluate any sklearn classifier model.\n",
    "\n",
    "    Args:\n",
    "        model_class: The sklearn classifier class (e.g., RandomForestClassifier, DecisionTreeClassifier).\n",
    "        X_train, y_train: Training data.\n",
    "        X_test, y_test: Test data.\n",
    "        model_params: Parameters for the classifier.\n",
    "\n",
    "    Prints:\n",
    "        Classification report, accuracy, F1 score, and confusion matrix plot.\n",
    "\n",
    "    Returns:\n",
    "        model: The fitted model.\n",
    "        y_pred: The predictions on X_test.\n",
    "    \"\"\"\n",
    "    model = model_class(random_state=random_state, **model_params)\n",
    "    model.fit(X_train, y_train)\n",
    "    y_pred = model.predict(X_test)\n",
    "\n",
    "    clf_name = model_class.__name__\n",
    "\n",
    "    # Print the classification report\n",
    "    report = classification_report(y_test, y_pred, output_dict=False)\n",
    "    print(f\"Classification Report for {clf_name}:\")\n",
    "    print(report)\n",
    "    print(\"\\n\")\n",
    "\n",
    "    # Calculate accuracy\n",
    "    accuracy = accuracy_score(y_test, y_pred)\n",
    "    print(f\"{clf_name} Accuracy: {accuracy:.2f}\")\n",
    "    \n",
    "    # Calculate f1 score\n",
    "    f1 = f1_score(y_test, y_pred, average='weighted')\n",
    "    print(f\"{clf_name} F1 score: {f1:.2f}\")\n",
    "    \n",
    "    # Plot the confusion matrix\n",
    "    cm = confusion_matrix(y_test, y_pred)\n",
    "    disp = ConfusionMatrixDisplay(confusion_matrix=cm, display_labels=model.classes_)\n",
    "    disp.plot(cmap=plt.cm.Blues)\n",
    "    plt.title(f'Confusion Matrix for {clf_name}')\n",
    "    plt.tight_layout()\n",
    "    plt.show()"
   ]
  },
  {
   "cell_type": "code",
   "execution_count": 39,
   "id": "a6fec707",
   "metadata": {},
   "outputs": [
    {
     "name": "stdout",
     "output_type": "stream",
     "text": [
      "Classification Report for RandomForestClassifier:\n",
      "              precision    recall  f1-score   support\n",
      "\n",
      "           0       0.76      0.95      0.85       143\n",
      "           1       0.68      0.26      0.38        57\n",
      "\n",
      "    accuracy                           0.76       200\n",
      "   macro avg       0.72      0.61      0.61       200\n",
      "weighted avg       0.74      0.76      0.71       200\n",
      "\n",
      "\n",
      "\n",
      "RandomForestClassifier Accuracy: 0.76\n",
      "RandomForestClassifier F1 score: 0.71\n"
     ]
    },
    {
     "data": {
      "image/png": "[encoded data removed]",
      "text/plain": [
       "<Figure size 640x480 with 2 Axes>"
      ]
     },
     "metadata": {},
     "output_type": "display_data"
    }
   ],
   "source": [
    "# run evaluation on the ins dataset\n",
    "classifier_model(RandomForestClassifier, X_train_ins_reg, y_train_ins_reg, X_test_ins_reg, y_test_ins_reg, **ins_reg_rf_grid_best_params)"
   ]
  },
  {
   "cell_type": "code",
   "execution_count": 43,
   "id": "4ca3511f",
   "metadata": {},
   "outputs": [
    {
     "name": "stdout",
     "output_type": "stream",
     "text": [
      "Classification Report for DecisionTreeClassifier:\n",
      "              precision    recall  f1-score   support\n",
      "\n",
      "           0       0.84      0.91      0.87       143\n",
      "           1       0.71      0.56      0.63        57\n",
      "\n",
      "    accuracy                           0.81       200\n",
      "   macro avg       0.77      0.74      0.75       200\n",
      "weighted avg       0.80      0.81      0.80       200\n",
      "\n",
      "\n",
      "\n",
      "DecisionTreeClassifier Accuracy: 0.81\n",
      "DecisionTreeClassifier F1 score: 0.80\n"
     ]
    },
    {
     "data": {
      "image/png": "[encoded data removed]",
      "text/plain": [
       "<Figure size 640x480 with 2 Axes>"
      ]
     },
     "metadata": {},
     "output_type": "display_data"
    }
   ],
   "source": [
    "# run evaluation on the ins dataset\n",
    "classifier_model(DecisionTreeClassifier, X_train_ins_reg, y_train_ins_reg, X_test_ins_reg, y_test_ins_reg, **ins_reg_dt_grid_best_params)"
   ]
  }
 ],
 "metadata": {
  "kernelspec": {
   "display_name": "Python 3",
   "language": "python",
   "name": "python3"
  },
  "language_info": {
   "codemirror_mode": {
    "name": "ipython",
    "version": 3
   },
   "file_extension": ".py",
   "mimetype": "text/x-python",
   "name": "python",
   "nbconvert_exporter": "python",
   "pygments_lexer": "ipython3",
   "version": "3.13.2"
  }
 },
 "nbformat": 4,
 "nbformat_minor": 5
}
