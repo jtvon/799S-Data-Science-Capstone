{
 "cells": [
  {
   "cell_type": "markdown",
   "id": "f6266dd9",
   "metadata": {},
   "source": [
    "## Week 5 Notebook"
   ]
  },
  {
   "cell_type": "markdown",
   "id": "2545bb69",
   "metadata": {},
   "source": [
    "Each week, you will apply the concepts of that week to your Integrated Capstone Project’s dataset. In preparation for Milestone One, create a Jupyter Notebook (similar to in Module B, Semester Two) that illustrates these lessons. There are no specific questions to answer in your Jupyter Notebook files in this course; your general goal is to analyze your data using the methods you have learned about in this course and in this program and draw interesting conclusions. \n",
    "\n",
    "For Week 5, include concepts such as support vector machines, the kernel trick, and regularization for support vector machines. Complete your Jupyter Notebook homework by 11:59pm ET on Sunday. "
   ]
  },
  {
   "cell_type": "code",
   "execution_count": 1,
   "id": "fce3f16f",
   "metadata": {},
   "outputs": [],
   "source": [
    "import pandas as pd\n",
    "import numpy as np\n",
    "import os\n",
    "import sys\n",
    "import matplotlib.pyplot as plt\n",
    "import seaborn as sns\n",
    "from collections import Counter\n",
    "\n",
    "# Import feature engineering and selection libraries\n",
    "from sklearn.svm import SVC, SVR\n",
    "\n",
    "# data preprocesing and scoring\n",
    "from sklearn.model_selection import train_test_split, cross_val_score\n",
    "from sklearn.preprocessing import StandardScaler, MinMaxScaler\n",
    "from sklearn.metrics import root_mean_squared_error, ConfusionMatrixDisplay, confusion_matrix, accuracy_score, precision_recall_curve, f1_score, roc_curve\n",
    "\n",
    "random_state = 0"
   ]
  },
  {
   "cell_type": "code",
   "execution_count": 2,
   "id": "43d281b1",
   "metadata": {},
   "outputs": [],
   "source": [
    "# encode categorical features\n",
    "def encode_categories(df: pd.DataFrame):\n",
    "    df_encoded = df.copy()\n",
    "    mappings = {}\n",
    "    cat_cols = df_encoded.select_dtypes(include=['object', 'category']).columns.tolist()\n",
    "    \n",
    "    for col in cat_cols:\n",
    "        # get the unique categories (in order of appearance)\n",
    "        uniques = df_encoded[col].dropna().unique().tolist()\n",
    "        # build a mapping: category -> code\n",
    "        mapping = {cat: code for code, cat in enumerate(uniques)}\n",
    "        mappings[col] = mapping\n",
    "\n",
    "        # map (leave NaN as NaN)\n",
    "        df_encoded[col] = df_encoded[col].map(mapping).astype(\"int64\")\n",
    "\n",
    "    return df_encoded, mappings"
   ]
  },
  {
   "cell_type": "code",
   "execution_count": 3,
   "id": "49f8f288",
   "metadata": {},
   "outputs": [],
   "source": [
    "# Create a function to load and split data\n",
    "def load_and_split_data(file_path, test_size=0.2, random_state=random_state, choice='norm'):\n",
    "\n",
    "    # Read and Encode catigorical features\n",
    "    df, _ = encode_categories(pd.read_csv(file_path))\n",
    "\n",
    "    # Feature and target\n",
    "    X = df.iloc[:, :-1]\n",
    "    y = df.iloc[:, -1]\n",
    "\n",
    "    # Train and test split\n",
    "    X_train, X_test, y_train, y_test = train_test_split(X, y, test_size=test_size, random_state=random_state)\n",
    "\n",
    "    # Convert target to DataFrame\n",
    "    y_train = pd.DataFrame(y_train, columns=[y.name]).reset_index(drop=True)\n",
    "    y_test = pd.DataFrame(y_test, columns=[y.name]).reset_index(drop=True)\n",
    "\n",
    "    if choice == 'reg':\n",
    "        # Regularize the features\n",
    "        scaler = StandardScaler()\n",
    "        X_train_scaled = scaler.fit_transform(X_train)\n",
    "        X_test_scaled = scaler.transform(X_test)\n",
    "\n",
    "        # Convert scaled features back to DataFrames\n",
    "        X_train_scaled = pd.DataFrame(X_train_scaled, columns=X_train.columns)\n",
    "        X_test_scaled = pd.DataFrame(X_test_scaled, columns=X_train.columns)\n",
    "\n",
    "    else:\n",
    "        # Bormalize the features\n",
    "        scaler = MinMaxScaler()\n",
    "        X_train_scaled = scaler.fit_transform(X_train)\n",
    "        X_test_scaled = scaler.transform(X_test)\n",
    "\n",
    "        # Convert scaled features back to DataFrames\n",
    "        X_train_scaled = pd.DataFrame(X_train_scaled, columns=X_train.columns)\n",
    "        X_test_scaled = pd.DataFrame(X_test_scaled, columns=X_train.columns)\n",
    "\n",
    "    return X_train_scaled, X_test_scaled, y_train, y_test, df"
   ]
  },
  {
   "cell_type": "markdown",
   "id": "70d2c6bf",
   "metadata": {},
   "source": [
    "### Model Funcitons"
   ]
  },
  {
   "cell_type": "code",
   "execution_count": 12,
   "id": "138e725e",
   "metadata": {},
   "outputs": [],
   "source": [
    "# Create a function that runs SVC or SVR with dynamic class weight option\n",
    "def run_model(\n",
    "    X_train, y_train, X_test, y_test, model_type='svc', kernel='linear', C=1.0, gamma='scale', class_weight='balanced'):\n",
    "\n",
    "    if model_type == 'svc':\n",
    "        model = SVC(kernel=kernel, C=C, gamma=gamma, random_state=random_state, class_weight=class_weight)\n",
    "\n",
    "        # reshaye y to 1D array\n",
    "        y_train = y_train.values.ravel()\n",
    "        y_test = y_test.values.ravel()\n",
    "\n",
    "        model.fit(X_train, y_train)\n",
    "        y_pred = model.predict(X_test)\n",
    "        \n",
    "        return model, y_pred\n",
    "    \n",
    "    elif model_type == 'svr':\n",
    "        model = SVR(kernel=kernel, C=C, gamma=gamma)\n",
    "\n",
    "        # reshaye y to 1D array\n",
    "        y_train = y_train.values.ravel()\n",
    "        y_test = y_test.values.ravel()\n",
    "        \n",
    "        model.fit(X_train,y_train)\n",
    "        y_pred = model.predict(X_test)\n",
    "\n",
    "        return model, y_pred\n",
    "    \n",
    "    else:\n",
    "        raise ValueError(\"Invalid model type, Choose 'svc' or 'svr'\")"
   ]
  },
  {
   "cell_type": "code",
   "execution_count": 17,
   "id": "e06ca993",
   "metadata": {},
   "outputs": [],
   "source": [
    "# Create a function to evaluate the results and plot the results based on the model type\n",
    "def evaluate_results(y_test, y_pred, model, model_type='svc'):\n",
    "    if model_type =='svc':\n",
    "        # Calculate accuracy\n",
    "        accuracy = accuracy_score(y_test, y_pred)\n",
    "        print(f\"Accuracy: {accuracy:.2f}\")\n",
    "\n",
    "        # Calculate f1 score\n",
    "        f1 = f1_score(y_test, y_pred)\n",
    "        print(f\"F1 score: {f1:.2f}\")\n",
    "\n",
    "        # Plot the confusion matrix\n",
    "        cm = confusion_matrix(y_test, y_pred)\n",
    "        disp = ConfusionMatrixDisplay(confusion_matrix=cm, display_labels=model.classes_)\n",
    "        disp.plot(cmap=plt.cm.Blues)\n",
    "        plt.title('Confusion Matrix')\n",
    "        plt.tight_layout()\n",
    "        plt.show()\n",
    "\n",
    "    if model_type == 'svr':\n",
    "        # Calculate RMSE\n",
    "        rmse = root_mean_squared_error(y_test, y_pred)\n",
    "        print(f\"RMSE: {rmse:.2f}\")\n",
    "\n",
    "        # Plot the predicted vs actual values\n",
    "        plt.figure(figsize=(8,6))\n",
    "        plt.scatter(y_test, y_pred, alpha=.5)\n",
    "        plt.xlabel(\"Actual Values\")\n",
    "        plt.ylabel(\"Predicted Values\")\n",
    "        plt.title(\"Predicted vs Actual Values\")\n",
    "        plt.tight_layout()\n",
    "        plt.show()\n"
   ]
  },
  {
   "cell_type": "code",
   "execution_count": null,
   "id": "c5fee5e0",
   "metadata": {},
   "outputs": [],
   "source": [
    "# Load the data\n",
    "# Regularized Data\n",
    "X_train_car_reg, X_test_car_reg, y_train_car_reg, y_test_car_reg, df_car_reg = load_and_split_data(r'C:\\Users\\JT von Seggern\\DS Masters Repos\\2025-spring-B2\\data\\carclaims_cleaned.csv', choice='reg')\n",
    "X_train_ins_reg, X_test_ins_reg, y_train_ins_reg, y_test_ins_reg, df_ins_reg = load_and_split_data(r'C:\\Users\\JT von Seggern\\DS Masters Repos\\2025-spring-B2\\data\\insurance_claims_cleaned.csv', choice='reg')\n",
    "X_train_fur_reg, X_test_fur_reg, y_train_fur_reg, y_test_fur_reg, df_fur_reg = load_and_split_data(r'C:\\Users\\JT von Seggern\\DS Masters Repos\\799S-Data-Science-Capstone\\Fast_Furious_Insured\\train_cleaned.csv', choice='reg')\n",
    "\n",
    "# Normalized data\n",
    "X_train_car_norm, X_test_car_norm, y_train_car_norm, y_test_car_norm, df_car_norm = load_and_split_data(r'C:\\Users\\JT von Seggern\\DS Masters Repos\\2025-spring-B2\\data\\carclaims_cleaned.csv', choice='norm')\n",
    "X_train_ins_norm, X_test_ins_norm, y_train_ins_norm, y_test_ins_norm, df_ins_norm = load_and_split_data(r'C:\\Users\\JT von Seggern\\DS Masters Repos\\2025-spring-B2\\data\\insurance_claims_cleaned.csv', choice='norm')\n",
    "X_train_fur_norm, X_test_fur_norm, y_train_fur_norm, y_test_fur_norm, df_fur_norm = load_and_split_data(r'C:\\Users\\JT von Seggern\\DS Masters Repos\\799S-Data-Science-Capstone\\Fast_Furious_Insured\\train_cleaned.csv', choice='norm')"
   ]
  },
  {
   "cell_type": "code",
   "execution_count": 14,
   "id": "2de9f0a4",
   "metadata": {},
   "outputs": [],
   "source": [
    "# Run SVC for car claims and insurance claims\n",
    "model_car_reg, y_pred_car_reg = run_model(X_train_car_reg, y_train_car_reg, X_test_car_reg, y_test_car_reg, model_type='svc')\n",
    "model_ins_reg, y_pred_ins_reg = run_model(X_train_ins_reg, y_train_ins_reg, X_test_ins_reg, y_test_ins_reg, model_type='svc')"
   ]
  },
  {
   "cell_type": "code",
   "execution_count": 15,
   "id": "62e02934",
   "metadata": {},
   "outputs": [
    {
     "name": "stdout",
     "output_type": "stream",
     "text": [
      "Accuracy: 0.61\n",
      "F1 score: 0.22\n"
     ]
    },
    {
     "data": {
      "image/png": "[encoded data removed]",
      "text/plain": [
       "<Figure size 640x480 with 2 Axes>"
      ]
     },
     "metadata": {},
     "output_type": "display_data"
    }
   ],
   "source": [
    "# Evaluate the car claims dataset\n",
    "evaluate_results(y_test_car_reg, y_pred_car_reg, model_car_reg, model_type='svc')"
   ]
  },
  {
   "cell_type": "code",
   "execution_count": 16,
   "id": "a8c78bfe",
   "metadata": {},
   "outputs": [
    {
     "name": "stdout",
     "output_type": "stream",
     "text": [
      "Accuracy: 0.77\n",
      "F1 score: 0.64\n"
     ]
    },
    {
     "data": {
      "image/png": "[encoded data removed]",
      "text/plain": [
       "<Figure size 640x480 with 2 Axes>"
      ]
     },
     "metadata": {},
     "output_type": "display_data"
    }
   ],
   "source": [
    "# Evaluate the insurance claims dataset\n",
    "evaluate_results(y_test_ins_reg, y_pred_ins_reg, model_ins_reg, model_type='svc')"
   ]
  },
  {
   "cell_type": "markdown",
   "id": "ac85f945",
   "metadata": {},
   "source": [
    "Running Support Vector Classification required multiple iterations to retrieve satisfactory results. Due to target class imbalance, the intial runs for the car claims datasets predicted 0 positive cases of fraud, although the model was 94 percent accurate, it was unusable. The class weight parameter was required to balance out the disproportion of positive to negative cases, and doing so downgraded the accuracy to 61 percent. \n",
    "\n",
    "The insurance claims dataset provided better classification without the class weight parameter but was also necessary to even out the classification of cases. It provided better evaluation results after the class weighting and recieved an accuracy score of 77 percent."
   ]
  }
 ],
 "metadata": {
  "kernelspec": {
   "display_name": "Python 3",
   "language": "python",
   "name": "python3"
  },
  "language_info": {
   "codemirror_mode": {
    "name": "ipython",
    "version": 3
   },
   "file_extension": ".py",
   "mimetype": "text/x-python",
   "name": "python",
   "nbconvert_exporter": "python",
   "pygments_lexer": "ipython3",
   "version": "3.13.2"
  }
 },
 "nbformat": 4,
 "nbformat_minor": 5
}
