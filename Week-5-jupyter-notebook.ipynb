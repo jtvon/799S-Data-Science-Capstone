{
 "cells": [
  {
   "cell_type": "markdown",
   "id": "f6266dd9",
   "metadata": {},
   "source": [
    "## Week 5 Notebook"
   ]
  },
  {
   "cell_type": "markdown",
   "id": "2545bb69",
   "metadata": {},
   "source": [
    "Each week, you will apply the concepts of that week to your Integrated Capstone Project’s dataset. In preparation for Milestone One, create a Jupyter Notebook (similar to in Module B, Semester Two) that illustrates these lessons. There are no specific questions to answer in your Jupyter Notebook files in this course; your general goal is to analyze your data using the methods you have learned about in this course and in this program and draw interesting conclusions. \n",
    "\n",
    "For Week 5, include concepts such as support vector machines, the kernel trick, and regularization for support vector machines. Complete your Jupyter Notebook homework by 11:59pm ET on Sunday. "
   ]
  },
  {
   "cell_type": "code",
   "execution_count": 1,
   "id": "fce3f16f",
   "metadata": {},
   "outputs": [],
   "source": [
    "import pandas as pd\n",
    "import numpy as np\n",
    "import os\n",
    "import sys\n",
    "import matplotlib.pyplot as plt\n",
    "import seaborn as sns\n",
    "\n",
    "# Import feature engineering and selection libraries\n",
    "from sklearn.svm import SVC\n",
    "\n",
    "# data preprocesing and scoring\n",
    "from sklearn.model_selection import train_test_split, GridSearchCV, RepeatedStratifiedKFold\n",
    "from sklearn.preprocessing import StandardScaler, MinMaxScaler\n",
    "from sklearn.metrics import ConfusionMatrixDisplay, confusion_matrix, accuracy_score, f1_score, classification_report\n",
    "\n",
    "random_state = 0"
   ]
  },
  {
   "cell_type": "code",
   "execution_count": 2,
   "id": "43d281b1",
   "metadata": {},
   "outputs": [],
   "source": [
    "# encode categorical features\n",
    "def encode_categories(df: pd.DataFrame):\n",
    "    df_encoded = df.copy()\n",
    "    mappings = {}\n",
    "    cat_cols = df_encoded.select_dtypes(include=['object', 'category']).columns.tolist()\n",
    "    \n",
    "    for col in cat_cols:\n",
    "        # get the unique categories (in order of appearance)\n",
    "        uniques = df_encoded[col].dropna().unique().tolist()\n",
    "        # build a mapping: category -> code\n",
    "        mapping = {cat: code for code, cat in enumerate(uniques)}\n",
    "        mappings[col] = mapping\n",
    "\n",
    "        # map (leave NaN as NaN)\n",
    "        df_encoded[col] = df_encoded[col].map(mapping).astype(\"int64\")\n",
    "\n",
    "    return df_encoded, mappings"
   ]
  },
  {
   "cell_type": "code",
   "execution_count": 3,
   "id": "49f8f288",
   "metadata": {},
   "outputs": [],
   "source": [
    "# Create a function to load and split data\n",
    "def load_and_split_data(file_path, test_size=0.2, random_state=random_state, choice='norm'):\n",
    "\n",
    "    # Read and Encode catigorical features\n",
    "    df, _ = encode_categories(pd.read_csv(file_path))\n",
    "\n",
    "    # Feature and target\n",
    "    X = df.iloc[:, :-1]\n",
    "    y = df.iloc[:, -1]\n",
    "\n",
    "    # Train and test split\n",
    "    X_train, X_test, y_train, y_test = train_test_split(X, y, test_size=test_size, random_state=random_state)\n",
    "\n",
    "    # Convert target to DataFrame\n",
    "    y_train = pd.DataFrame(y_train, columns=[y.name]).reset_index(drop=True)\n",
    "    y_test = pd.DataFrame(y_test, columns=[y.name]).reset_index(drop=True)\n",
    "\n",
    "    if choice == 'reg':\n",
    "        # Regularize the features\n",
    "        scaler = StandardScaler()\n",
    "        X_train_scaled = scaler.fit_transform(X_train)\n",
    "        X_test_scaled = scaler.transform(X_test)\n",
    "\n",
    "        # Convert scaled features back to DataFrames\n",
    "        X_train_scaled = pd.DataFrame(X_train_scaled, columns=X_train.columns)\n",
    "        X_test_scaled = pd.DataFrame(X_test_scaled, columns=X_train.columns)\n",
    "\n",
    "    else:\n",
    "        # Bormalize the features\n",
    "        scaler = MinMaxScaler()\n",
    "        X_train_scaled = scaler.fit_transform(X_train)\n",
    "        X_test_scaled = scaler.transform(X_test)\n",
    "\n",
    "        # Convert scaled features back to DataFrames\n",
    "        X_train_scaled = pd.DataFrame(X_train_scaled, columns=X_train.columns)\n",
    "        X_test_scaled = pd.DataFrame(X_test_scaled, columns=X_train.columns)\n",
    "\n",
    "    return X_train_scaled, X_test_scaled, y_train, y_test, df"
   ]
  },
  {
   "cell_type": "markdown",
   "id": "70d2c6bf",
   "metadata": {},
   "source": [
    "### Model Funcitons"
   ]
  },
  {
   "cell_type": "code",
   "execution_count": 4,
   "id": "138e725e",
   "metadata": {},
   "outputs": [],
   "source": [
    "# Create a function that runs SVC or SVR with dynamic class weight option\n",
    "def run_model(X_train, y_train, X_test, y_test, class_weight='balanced', **model_params):\n",
    "\n",
    "    model = SVC(**model_params, class_weight=class_weight)\n",
    "\n",
    "    # reshaye y to 1D array\n",
    "    y_train = y_train.values.ravel()\n",
    "    y_test = y_test.values.ravel()\n",
    "\n",
    "    model.fit(X_train, y_train)\n",
    "    y_pred = model.predict(X_test)\n",
    "    \n",
    "    return model, y_pred"
   ]
  },
  {
   "cell_type": "code",
   "execution_count": 10,
   "id": "f2126184",
   "metadata": {},
   "outputs": [],
   "source": [
    "def gridsearchcv(model, X_train, y_train, random_state=random_state):\n",
    "\n",
    "    # Define the model\n",
    "    gb_model = model(random_state=random_state)\n",
    "\n",
    "    # Define the parameter grid\n",
    "    param_dist = {\n",
    "        'kernel': ['linear', 'poly', 'rbf', 'sigmoid'],\n",
    "        'C': [0.1, 1, 10, 100],\n",
    "        'gamma': ['auto', 'scale']                              \n",
    "    }\n",
    "\n",
    "    # Use GridSearchCV to find the best parameters\n",
    "    search = GridSearchCV(\n",
    "        estimator=gb_model,\n",
    "        param_grid=param_dist,\n",
    "        scoring='accuracy',\n",
    "        cv=RepeatedStratifiedKFold(n_splits=5, n_repeats=5, random_state=random_state),  # Number of folds for cross-validation -- Reduce this if efficiency is an issue\n",
    "        n_jobs=-1,  # Use all available cores\n",
    "        return_train_score=True\n",
    "    )\n",
    "\n",
    "    # Fit the GridSearchCV\n",
    "    search.fit(X_train, y_train)  \n",
    "\n",
    "    # Extract results into a DataFrame\n",
    "    results = pd.DataFrame(search.cv_results_)\n",
    "\n",
    "    # Select relevant columns for readability\n",
    "    results = results[[\n",
    "        'param_kernel',\n",
    "        'param_C',\n",
    "        'param_gamma',\n",
    "        'mean_test_score',\n",
    "        'std_test_score',\n",
    "        'mean_train_score',  # Include training score\n",
    "        'std_train_score',   # Include standard deviation of training score\n",
    "        'rank_test_score'\n",
    "    ]]\n",
    "\n",
    "    # Sort by rank (best scores first)\n",
    "    results = results.sort_values(by='rank_test_score')\n",
    "\n",
    "    # Rename columns for printing only\n",
    "    renamed_results = results.rename(\n",
    "        columns={\n",
    "            'param_kernel': 'kernel',\n",
    "            'param_C': 'C',\n",
    "            'param_gamma': 'gamma',\n",
    "            'mean_test_score': 'mean_cv_score',\n",
    "            'std_test_score': 'std_cv_score',\n",
    "            'mean_train_score': 'mean_train_score',\n",
    "            'std_train_score': 'std_train_score'\n",
    "        }\n",
    "    ).drop(columns=['rank_test_score'])\n",
    "\n",
    "    # Print the results as a table\n",
    "    print(\"\\nSearch Results (Top 5):\\n\")\n",
    "    print(renamed_results.head(5).to_string(index=False))  # Show the top 5 results with new headers\n",
    "\n",
    "    # Best parameters and test performance\n",
    "    grid_best_params = search.best_params_\n",
    "    print(f\"\\nBest Parameters: {grid_best_params}\")\n",
    "    grid_cv_acc = search.best_score_\n",
    "    print(f\"Best CV RMSE: {grid_cv_acc:.4f}\")\n",
    "\n",
    "    return grid_best_params, grid_cv_acc"
   ]
  },
  {
   "cell_type": "code",
   "execution_count": null,
   "id": "e06ca993",
   "metadata": {},
   "outputs": [],
   "source": [
    "def evaluate_results(y_test, y_pred, model):\n",
    "    \n",
    "    # Print the classification report\n",
    "    report = classification_report(y_test, y_pred, output_dict=True)\n",
    "    print(\"Classification Report:\")\n",
    "    print(report)\n",
    "    print(\"\\n\")\n",
    "\n",
    "    # Calculate accuracy\n",
    "    accuracy = accuracy_score(y_test, y_pred)\n",
    "    print(f\"Accuracy: {accuracy:.2f}\")\n",
    "    \n",
    "    # Calculate f1 score\n",
    "    f1 = f1_score(y_test, y_pred)\n",
    "    print(f\"F1 score: {f1:.2f}\")\n",
    "    \n",
    "    # Plot the confusion matrix\n",
    "    cm = confusion_matrix(y_test, y_pred)\n",
    "    disp = ConfusionMatrixDisplay(confusion_matrix=cm, display_labels=model.classes_)\n",
    "    disp.plot(cmap=plt.cm.Blues)\n",
    "    plt.title('Confusion Matrix')\n",
    "    plt.tight_layout()\n",
    "    plt.show()"
   ]
  },
  {
   "cell_type": "code",
   "execution_count": 12,
   "id": "c5fee5e0",
   "metadata": {},
   "outputs": [],
   "source": [
    "# Load the data\n",
    "# Regularized Data\n",
    "X_train_car_reg, X_test_car_reg, y_train_car_reg, y_test_car_reg, df_car_reg = load_and_split_data(r'C:\\Users\\JT von Seggern\\DS Masters Repos\\2025-spring-B2\\data\\carclaims_cleaned.csv', choice='reg')\n",
    "X_train_ins_reg, X_test_ins_reg, y_train_ins_reg, y_test_ins_reg, df_ins_reg = load_and_split_data(r'C:\\Users\\JT von Seggern\\DS Masters Repos\\2025-spring-B2\\data\\insurance_claims_cleaned.csv', choice='reg')"
   ]
  },
  {
   "cell_type": "code",
   "execution_count": 13,
   "id": "24710a8d",
   "metadata": {},
   "outputs": [
    {
     "name": "stdout",
     "output_type": "stream",
     "text": [
      "\n",
      "Search Results (Top 5):\n",
      "\n",
      " kernel     C gamma  mean_cv_score  std_cv_score  mean_train_score  std_train_score\n",
      "sigmoid  10.0  auto        0.78225      0.027081          0.616125         0.012459\n",
      " linear   1.0 scale        0.78200      0.024832          0.818187         0.010651\n",
      " linear   1.0  auto        0.78200      0.024832          0.818187         0.010651\n",
      " linear 100.0  auto        0.78200      0.024451          0.818313         0.010956\n",
      " linear 100.0 scale        0.78200      0.024451          0.818313         0.010956\n",
      "\n",
      "Best Parameters: {'C': 10, 'gamma': 'auto', 'kernel': 'sigmoid'}\n",
      "Best CV RMSE: 0.7823\n"
     ]
    },
    {
     "name": "stderr",
     "output_type": "stream",
     "text": [
      "c:\\Users\\JT von Seggern\\AppData\\Local\\Programs\\Python\\Python313\\Lib\\site-packages\\sklearn\\utils\\validation.py:1408: DataConversionWarning: A column-vector y was passed when a 1d array was expected. Please change the shape of y to (n_samples, ), for example using ravel().\n",
      "  y = column_or_1d(y, warn=True)\n"
     ]
    }
   ],
   "source": [
    "# Run grid search on the insurance dataset\n",
    "ins_reg_params, ins_reg_acc = gridsearchcv(SVC, X_train_ins_reg, y_train_ins_reg, random_state=random_state)"
   ]
  },
  {
   "cell_type": "code",
   "execution_count": null,
   "id": "51a5ef1e",
   "metadata": {},
   "outputs": [],
   "source": [
    "# Run grid search for the car claims dataset\n",
    "car_reg_params, car_reg_acc = gridsearchcv(SVC, X_train_car_reg, y_train_car_reg)"
   ]
  },
  {
   "cell_type": "markdown",
   "id": "a82a9600",
   "metadata": {},
   "source": [
    "The above code ran for more than 6 hrs before termination, so decided to stop."
   ]
  },
  {
   "cell_type": "code",
   "execution_count": 16,
   "id": "2de9f0a4",
   "metadata": {},
   "outputs": [],
   "source": [
    "# Run SVC for car claims and insurance claims\n",
    "# model_car_reg, y_pred_car_reg = run_model(X_train_car_reg, y_train_car_reg, X_test_car_reg, y_test_car_reg, model_type='svc', **car_reg_params)\n",
    "model_ins_reg, y_pred_ins_reg = run_model(X_train_ins_reg, y_train_ins_reg, X_test_ins_reg, y_test_ins_reg, **ins_reg_params)"
   ]
  },
  {
   "cell_type": "code",
   "execution_count": null,
   "id": "62e02934",
   "metadata": {},
   "outputs": [
    {
     "name": "stdout",
     "output_type": "stream",
     "text": [
      "Accuracy: 0.61\n",
      "F1 score: 0.22\n"
     ]
    },
    {
     "data": {
      "image/png": "[encoded data removed]",
      "text/plain": [
       "<Figure size 640x480 with 2 Axes>"
      ]
     },
     "metadata": {},
     "output_type": "display_data"
    }
   ],
   "source": [
    "# Evaluate the car claims dataset\n",
    "evaluate_results(y_test_car_reg, y_pred_car_reg, model_car_reg, model_type='svc')"
   ]
  },
  {
   "cell_type": "code",
   "execution_count": 20,
   "id": "a8c78bfe",
   "metadata": {},
   "outputs": [
    {
     "name": "stdout",
     "output_type": "stream",
     "text": [
      "Classification Report:\n",
      "\n",
      "\n",
      "Accuracy: 0.72\n",
      "F1 score: 0.64\n"
     ]
    },
    {
     "data": {
      "image/png": "[encoded data removed]",
      "text/plain": [
       "<Figure size 640x480 with 2 Axes>"
      ]
     },
     "metadata": {},
     "output_type": "display_data"
    }
   ],
   "source": [
    "# Evaluate the insurance claims dataset\n",
    "evaluate_results(y_test_ins_reg, y_pred_ins_reg, model_ins_reg)"
   ]
  }
 ],
 "metadata": {
  "kernelspec": {
   "display_name": "Python 3",
   "language": "python",
   "name": "python3"
  },
  "language_info": {
   "codemirror_mode": {
    "name": "ipython",
    "version": 3
   },
   "file_extension": ".py",
   "mimetype": "text/x-python",
   "name": "python",
   "nbconvert_exporter": "python",
   "pygments_lexer": "ipython3",
   "version": "3.13.2"
  }
 },
 "nbformat": 4,
 "nbformat_minor": 5
}
