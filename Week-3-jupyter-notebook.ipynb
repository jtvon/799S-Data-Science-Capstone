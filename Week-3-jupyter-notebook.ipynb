{
 "cells": [
  {
   "cell_type": "markdown",
   "id": "995dacd3",
   "metadata": {},
   "source": [
    "### Week 3 notebook"
   ]
  },
  {
   "cell_type": "markdown",
   "id": "f6eab84e",
   "metadata": {},
   "source": [
    "Each week, you will apply the concepts of that week to your Integrated Capstone Project’s dataset. In preparation for Milestone One, create a Jupyter Notebook (similar to in Module B, Semester Two) that illustrates these lessons. There are no specific questions to answer in your Jupyter Notebook files in this course; your general goal is to analyze your data, using the methods you have learned about in this course and in this program, and draw interesting conclusions. \n",
    "\n",
    "For Week 3, include concepts such as linear regression with forward and backward selection, PCR, and PLSR. Complete your Jupyter Notebook homework by 11:59 pm ET on Sunday. \n",
    "\n",
    "In Week 7, you will compile your findings from your Jupyter Notebook homework into your Milestone One assignment for grading. For full instructions and the rubric for Milestone One, refer to the following link. "
   ]
  },
  {
   "cell_type": "code",
   "execution_count": 1,
   "id": "48062104",
   "metadata": {},
   "outputs": [],
   "source": [
    "import pandas as pd\n",
    "import numpy as np\n",
    "import os\n",
    "import sys\n",
    "import matplotlib.pyplot as plt\n",
    "import seaborn as sns\n",
    "\n",
    "# Import feature engineering and selection libraries\n",
    "from sklearn.feature_selection import SequentialFeatureSelector\n",
    "from sklearn.decomposition import PCA\n",
    "from sklearn.cross_decomposition import PLSRegression\n",
    "from sklearn.linear_model import LinearRegression\n",
    "\n",
    "# data preprocesing and scoring\n",
    "from sklearn.model_selection import train_test_split, cross_val_score\n",
    "from sklearn.preprocessing import StandardScaler\n",
    "from sklearn.metrics import root_mean_squared_error, mean_squared_error\n",
    "\n",
    "random_state = 0"
   ]
  },
  {
   "cell_type": "code",
   "execution_count": 2,
   "id": "122997fc",
   "metadata": {},
   "outputs": [],
   "source": [
    "# encode categorical features\n",
    "def encode_categories(df: pd.DataFrame):\n",
    "    df_encoded = df.copy()\n",
    "    mappings = {}\n",
    "    cat_cols = df_encoded.select_dtypes(include=['object', 'category']).columns.tolist()\n",
    "    \n",
    "    for col in cat_cols:\n",
    "        # get the unique categories (in order of appearance)\n",
    "        uniques = df_encoded[col].dropna().unique().tolist()\n",
    "        # build a mapping: category -> code\n",
    "        mapping = {cat: code for code, cat in enumerate(uniques)}\n",
    "        mappings[col] = mapping\n",
    "\n",
    "        # map (leave NaN as NaN)\n",
    "        df_encoded[col] = df_encoded[col].map(mapping).astype(\"int64\")\n",
    "\n",
    "    return df_encoded, mappings"
   ]
  },
  {
   "cell_type": "code",
   "execution_count": 3,
   "id": "93a9c4cc",
   "metadata": {},
   "outputs": [],
   "source": [
    "# Create a function to load and split data\n",
    "def load_and_split_data(file_path, test_size=0.2, random_state=0):\n",
    "\n",
    "    # Read and Encode catigorical features\n",
    "    df, _ = encode_categories(pd.read_csv(file_path))\n",
    "\n",
    "    # Feature and target\n",
    "    X = df.iloc[:, :-1]\n",
    "    y = df.iloc[:, -1]\n",
    "\n",
    "    # Train and test split\n",
    "    X_train, X_test, y_train, y_test = train_test_split(X, y, test_size=test_size, random_state=random_state)\n",
    "\n",
    "    #Scale the features\n",
    "    scaler = StandardScaler()\n",
    "    X_train_scaled = scaler.fit_transform(X_train)\n",
    "    X_test_scaled = scaler.transform(X_test)\n",
    "\n",
    "    # Convert scaled features back to DataFrames\n",
    "    X_train_scaled = pd.DataFrame(X_train_scaled, columns=X.columns)\n",
    "    X_test_scaled = pd.DataFrame(X_test_scaled, columns=X.columns)\n",
    "\n",
    "    return X_train_scaled, X_test_scaled, y_train, y_test, df\n"
   ]
  },
  {
   "cell_type": "markdown",
   "id": "ca81a8ab",
   "metadata": {},
   "source": [
    "### Model Funcitons"
   ]
  },
  {
   "cell_type": "code",
   "execution_count": 4,
   "id": "cb7e5d10",
   "metadata": {},
   "outputs": [],
   "source": [
    "X_train_car, X_test_car, y_train_car, y_test_car, df_car = load_and_split_data(r'C:\\Users\\JT von Seggern\\DS Masters Repos\\2025-spring-B2\\data\\carclaims_cleaned.csv')"
   ]
  },
  {
   "cell_type": "code",
   "execution_count": 5,
   "id": "8d13449f",
   "metadata": {},
   "outputs": [],
   "source": [
    "# Forward Feature Selection\n",
    "def forward_feature_selection(X_train, y_train):\n",
    "    model = LinearRegression()\n",
    "    sfs = SequentialFeatureSelector(model, n_features_to_select='auto', direction='forward', cv=5, n_jobs=-1)\n",
    "    sfs.fit(X_train, y_train)\n",
    "    selected_features = X_train.columns[sfs.get_support()]\n",
    "    X_train_selected = X_train[selected_features]\n",
    "    return X_train_selected, selected_features"
   ]
  },
  {
   "cell_type": "code",
   "execution_count": 6,
   "id": "cbfb952c",
   "metadata": {},
   "outputs": [],
   "source": [
    "# Forward Feature Selection\n",
    "def backward_feature_selection(X_train, y_train):\n",
    "    model = LinearRegression()\n",
    "    sfs = SequentialFeatureSelector(model, n_features_to_select='auto', direction='backward', cv=5, n_jobs=-1)\n",
    "    sfs.fit(X_train, y_train)\n",
    "    selected_features = X_train.columns[sfs.get_support()]\n",
    "    X_train_selected = X_train[selected_features]\n",
    "    return X_train_selected, selected_features"
   ]
  },
  {
   "cell_type": "code",
   "execution_count": 7,
   "id": "6f7887d2",
   "metadata": {},
   "outputs": [],
   "source": [
    "def lin_regression(X_train, y_train, X_test, y_test):\n",
    "    model = LinearRegression()\n",
    "    model.fit(X_train, y_train)\n",
    "    y_pred = model.predict(X_test)\n",
    "    rmse = root_mean_squared_error(y_test, y_pred)\n",
    "    print(f\"Root Mean Squared Error: {rmse:.4f}\")\n",
    "    return model, y_pred, rmse"
   ]
  },
  {
   "cell_type": "code",
   "execution_count": 8,
   "id": "d5378dc1",
   "metadata": {},
   "outputs": [],
   "source": [
    "def pca_or_plsr(X_train, y_train, X_test, y_test, components=2, choice='pca'):\n",
    "    if choice == 'plsr':\n",
    "        model = PLSRegression(n_components=components)\n",
    "        model.fit(X_train, y_train)\n",
    "        y_pred = model.predict(X_test)\n",
    "        rmse = root_mean_squared_error(y_test, y_pred)\n",
    "        print(f\"Root Mean Squared Error w/ PLS: {rmse:.4f}\")\n",
    "        return model, y_pred, rmse\n",
    "    else:    \n",
    "        pca = PCA(n_components=components)\n",
    "        X_train_pca = pca.fit_transform(X_train)\n",
    "        X_test_pca = pca.fit_transform(X_test)\n",
    "        model = LinearRegression()\n",
    "        model.fit(X_train_pca, y_train)\n",
    "        y_pred = model.predict(X_test_pca)\n",
    "        rmse = root_mean_squared_error(y_test, y_pred)\n",
    "        print(f\"Root Mean Squared Error w/ PCA: {rmse:.4f}\")\n",
    "        return model, y_pred, rmse"
   ]
  },
  {
   "cell_type": "markdown",
   "id": "cb424aca",
   "metadata": {},
   "source": [
    "### Car Claims dataset"
   ]
  },
  {
   "cell_type": "code",
   "execution_count": 9,
   "id": "5e8f11d2",
   "metadata": {},
   "outputs": [
    {
     "name": "stdout",
     "output_type": "stream",
     "text": [
      "Root Mean Squared Error: 0.2274\n"
     ]
    }
   ],
   "source": [
    "# Create a baseline model for the car claims dataset\n",
    "model_car_baseline, y_pred_car_baseline, car_baseline_rmse = lin_regression(X_train_car, y_train_car, X_test_car, y_test_car)"
   ]
  },
  {
   "cell_type": "code",
   "execution_count": 10,
   "id": "25280cd2",
   "metadata": {},
   "outputs": [
    {
     "name": "stdout",
     "output_type": "stream",
     "text": [
      "Root Mean Squared Error: 0.2275\n"
     ]
    }
   ],
   "source": [
    "# Forward Selection on Car Claims dataset\n",
    "X_car_forward, car_forward_features = forward_feature_selection(X_train_car, y_train_car)\n",
    "model_car_forward, y_pred_car_forward, car_forward_rmse = lin_regression(X_car_forward, y_train_car, X_test_car[X_car_forward.columns], y_test_car)"
   ]
  },
  {
   "cell_type": "code",
   "execution_count": 11,
   "id": "bb579b40",
   "metadata": {},
   "outputs": [
    {
     "name": "stdout",
     "output_type": "stream",
     "text": [
      "Root Mean Squared Error: 0.2275\n"
     ]
    }
   ],
   "source": [
    "# Backward Selection on Car Claims dataset\n",
    "X_car_backward, car_backward_features = backward_feature_selection(X_train_car, y_train_car)\n",
    "model_car_backward, y_pred_car_backward, car_backward_rmse = lin_regression(X_car_backward, y_train_car, X_test_car[X_car_backward.columns], y_test_car)"
   ]
  },
  {
   "cell_type": "code",
   "execution_count": 12,
   "id": "28ca4696",
   "metadata": {},
   "outputs": [
    {
     "name": "stdout",
     "output_type": "stream",
     "text": [
      "Root Mean Squared Error w/ PCA: 0.2338\n"
     ]
    }
   ],
   "source": [
    "# Principal Components Regression on car_claims dataset\n",
    "model_car_pca, y_pred_car_pca, car_pca_rmse = pca_or_plsr(X_train_car, y_train_car, X_test_car, y_test_car, components=5, choice='pca')"
   ]
  },
  {
   "cell_type": "code",
   "execution_count": 13,
   "id": "e70dcb51",
   "metadata": {},
   "outputs": [
    {
     "name": "stdout",
     "output_type": "stream",
     "text": [
      "Root Mean Squared Error w/ PLS: 0.2274\n"
     ]
    }
   ],
   "source": [
    "# Partial Least Squares Regression on car_claims dataset\n",
    "model_car_plsr, y_pred_car_plsr, car_plsr_rmse = pca_or_plsr(X_train_car, y_train_car, X_test_car, y_test_car, components=5, choice='plsr')"
   ]
  },
  {
   "cell_type": "code",
   "execution_count": 14,
   "id": "7b6760fd",
   "metadata": {},
   "outputs": [],
   "source": [
    "# Store the results in a dataframe\n",
    "results_car = pd.DataFrame({\n",
    "    'model': ['Baseline', 'Forward Selection', 'Backward Selection', 'PCA', 'PLSR'],\n",
    "    'rmse': [car_baseline_rmse, car_forward_rmse, car_backward_rmse, car_pca_rmse, car_plsr_rmse]\n",
    "})"
   ]
  },
  {
   "cell_type": "markdown",
   "id": "2bf40472",
   "metadata": {},
   "source": [
    "### Insurance Claims dataset"
   ]
  },
  {
   "cell_type": "code",
   "execution_count": 15,
   "id": "fdefaaa7",
   "metadata": {},
   "outputs": [],
   "source": [
    "X_train_ins, X_test_ins, y_train_ins, y_test_ins, df_ins = load_and_split_data(r'C:\\Users\\JT von Seggern\\DS Masters Repos\\2025-spring-B2\\data\\insurance_claims_cleaned.csv')"
   ]
  },
  {
   "cell_type": "code",
   "execution_count": 16,
   "id": "d6f5c7bd",
   "metadata": {},
   "outputs": [
    {
     "name": "stdout",
     "output_type": "stream",
     "text": [
      "Root Mean Squared Error: 0.4170\n"
     ]
    }
   ],
   "source": [
    "# Create a baseline model for the Insurance Claims dataset dataset\n",
    "model_ins_baseline, y_pred_ins_baseline, ins_baseline_rmse = lin_regression(X_train_ins, y_train_ins, X_test_ins, y_test_ins)"
   ]
  },
  {
   "cell_type": "code",
   "execution_count": 17,
   "id": "29c61298",
   "metadata": {},
   "outputs": [
    {
     "name": "stdout",
     "output_type": "stream",
     "text": [
      "Root Mean Squared Error: 0.4150\n"
     ]
    }
   ],
   "source": [
    "# Forward Selection on Insurance Claims dataset\n",
    "X_ins_forward, ins_forward_features = forward_feature_selection(X_train_ins, y_train_ins)\n",
    "model_ins_forward, y_pred_ins_forward, ins_forward_rmse = lin_regression(X_ins_forward, y_train_ins, X_test_ins[X_ins_forward.columns], y_test_ins)"
   ]
  },
  {
   "cell_type": "code",
   "execution_count": 18,
   "id": "043497d1",
   "metadata": {},
   "outputs": [
    {
     "name": "stdout",
     "output_type": "stream",
     "text": [
      "Root Mean Squared Error: 0.4158\n"
     ]
    }
   ],
   "source": [
    "# Backward Selection on Insurance Claims dataset\n",
    "X_ins_backward, ins_backward_features = backward_feature_selection(X_train_ins, y_train_ins)\n",
    "model_ins_backward, y_pred_ins_backward, ins_backward_rmse = lin_regression(X_ins_backward, y_train_ins, X_test_ins[X_ins_backward.columns], y_test_ins)"
   ]
  },
  {
   "cell_type": "code",
   "execution_count": 19,
   "id": "1831917c",
   "metadata": {},
   "outputs": [
    {
     "name": "stdout",
     "output_type": "stream",
     "text": [
      "Root Mean Squared Error w/ PCA: 0.4459\n"
     ]
    }
   ],
   "source": [
    "# Principal Components Regression on insurance claims dataset\n",
    "model_ins_pca, y_pred_ins_pca, ins_pca_rmse = pca_or_plsr(X_train_ins, y_train_ins, X_test_ins, y_test_ins, components=5, choice='pca')"
   ]
  },
  {
   "cell_type": "code",
   "execution_count": 20,
   "id": "46345a91",
   "metadata": {},
   "outputs": [
    {
     "name": "stdout",
     "output_type": "stream",
     "text": [
      "Root Mean Squared Error w/ PLS: 0.4166\n"
     ]
    }
   ],
   "source": [
    "# Partial Least Squares Regression on insurance claims dataset\n",
    "model_ins_plsr, y_pred_ins_plsr, ins_plsr_rmse = pca_or_plsr(X_train_ins, y_train_ins, X_test_ins, y_test_ins, components=5, choice='plsr')"
   ]
  },
  {
   "cell_type": "code",
   "execution_count": 21,
   "id": "698ce2c1",
   "metadata": {},
   "outputs": [],
   "source": [
    "# Store the results in a dataframe\n",
    "results_ins = pd.DataFrame({\n",
    "    'model': ['Baseline', 'Forward Selection', 'Backward Selection', 'PCA', 'PLSR'],\n",
    "    'rmse': [ins_baseline_rmse, ins_forward_rmse, ins_backward_rmse, ins_pca_rmse, ins_plsr_rmse]\n",
    "})"
   ]
  },
  {
   "cell_type": "markdown",
   "id": "0d69e1b7",
   "metadata": {},
   "source": [
    "### Fast and Furious dataset"
   ]
  },
  {
   "cell_type": "code",
   "execution_count": 22,
   "id": "823a37be",
   "metadata": {},
   "outputs": [
    {
     "data": {
      "text/html": [
       "<div>\n",
       "<style scoped>\n",
       "    .dataframe tbody tr th:only-of-type {\n",
       "        vertical-align: middle;\n",
       "    }\n",
       "\n",
       "    .dataframe tbody tr th {\n",
       "        vertical-align: top;\n",
       "    }\n",
       "\n",
       "    .dataframe thead th {\n",
       "        text-align: right;\n",
       "    }\n",
       "</style>\n",
       "<table border=\"1\" class=\"dataframe\">\n",
       "  <thead>\n",
       "    <tr style=\"text-align: right;\">\n",
       "      <th></th>\n",
       "      <th>Image_path</th>\n",
       "      <th>Insurance_company</th>\n",
       "      <th>Cost_of_vehicle</th>\n",
       "      <th>Min_coverage</th>\n",
       "      <th>Expiry_date</th>\n",
       "      <th>Max_coverage</th>\n",
       "      <th>Condition</th>\n",
       "      <th>Amount</th>\n",
       "    </tr>\n",
       "  </thead>\n",
       "  <tbody>\n",
       "    <tr>\n",
       "      <th>0</th>\n",
       "      <td>img_4513976.jpg</td>\n",
       "      <td>BQ</td>\n",
       "      <td>41500.0</td>\n",
       "      <td>1037.5</td>\n",
       "      <td>2026-12-03</td>\n",
       "      <td>36142.68</td>\n",
       "      <td>0</td>\n",
       "      <td>0.0</td>\n",
       "    </tr>\n",
       "    <tr>\n",
       "      <th>1</th>\n",
       "      <td>img_7764995.jpg</td>\n",
       "      <td>BQ</td>\n",
       "      <td>50700.0</td>\n",
       "      <td>1267.5</td>\n",
       "      <td>2025-07-10</td>\n",
       "      <td>12753.00</td>\n",
       "      <td>1</td>\n",
       "      <td>6194.0</td>\n",
       "    </tr>\n",
       "    <tr>\n",
       "      <th>2</th>\n",
       "      <td>img_451308.jpg</td>\n",
       "      <td>A</td>\n",
       "      <td>49500.0</td>\n",
       "      <td>1237.5</td>\n",
       "      <td>2022-08-11</td>\n",
       "      <td>43102.68</td>\n",
       "      <td>0</td>\n",
       "      <td>0.0</td>\n",
       "    </tr>\n",
       "    <tr>\n",
       "      <th>3</th>\n",
       "      <td>img_7768372.jpg</td>\n",
       "      <td>A</td>\n",
       "      <td>33500.0</td>\n",
       "      <td>837.5</td>\n",
       "      <td>2022-08-02</td>\n",
       "      <td>8453.00</td>\n",
       "      <td>1</td>\n",
       "      <td>7699.0</td>\n",
       "    </tr>\n",
       "    <tr>\n",
       "      <th>4</th>\n",
       "      <td>img_7765274.jpg</td>\n",
       "      <td>AC</td>\n",
       "      <td>27600.0</td>\n",
       "      <td>690.0</td>\n",
       "      <td>2026-05-01</td>\n",
       "      <td>6978.00</td>\n",
       "      <td>1</td>\n",
       "      <td>8849.0</td>\n",
       "    </tr>\n",
       "  </tbody>\n",
       "</table>\n",
       "</div>"
      ],
      "text/plain": [
       "        Image_path Insurance_company  Cost_of_vehicle  Min_coverage  \\\n",
       "0  img_4513976.jpg                BQ          41500.0        1037.5   \n",
       "1  img_7764995.jpg                BQ          50700.0        1267.5   \n",
       "2   img_451308.jpg                 A          49500.0        1237.5   \n",
       "3  img_7768372.jpg                 A          33500.0         837.5   \n",
       "4  img_7765274.jpg                AC          27600.0         690.0   \n",
       "\n",
       "  Expiry_date  Max_coverage  Condition  Amount  \n",
       "0  2026-12-03      36142.68          0     0.0  \n",
       "1  2025-07-10      12753.00          1  6194.0  \n",
       "2  2022-08-11      43102.68          0     0.0  \n",
       "3  2022-08-02       8453.00          1  7699.0  \n",
       "4  2026-05-01       6978.00          1  8849.0  "
      ]
     },
     "execution_count": 22,
     "metadata": {},
     "output_type": "execute_result"
    }
   ],
   "source": [
    "df_furious = pd.read_csv(r'C:\\Users\\JT von Seggern\\DS Masters Repos\\799S-Data-Science-Capstone\\Fast_Furious_Insured\\train.csv')\n",
    "df_furious.head()"
   ]
  },
  {
   "cell_type": "code",
   "execution_count": 23,
   "id": "3cd98235",
   "metadata": {},
   "outputs": [
    {
     "name": "stdout",
     "output_type": "stream",
     "text": [
      "<class 'pandas.core.frame.DataFrame'>\n",
      "RangeIndex: 1399 entries, 0 to 1398\n",
      "Data columns (total 8 columns):\n",
      " #   Column             Non-Null Count  Dtype  \n",
      "---  ------             --------------  -----  \n",
      " 0   Image_path         1399 non-null   object \n",
      " 1   Insurance_company  1399 non-null   object \n",
      " 2   Cost_of_vehicle    1310 non-null   float64\n",
      " 3   Min_coverage       1310 non-null   float64\n",
      " 4   Expiry_date        1399 non-null   object \n",
      " 5   Max_coverage       1310 non-null   float64\n",
      " 6   Condition          1399 non-null   int64  \n",
      " 7   Amount             1388 non-null   float64\n",
      "dtypes: float64(4), int64(1), object(3)\n",
      "memory usage: 87.6+ KB\n"
     ]
    }
   ],
   "source": [
    "df_furious.info()"
   ]
  },
  {
   "cell_type": "code",
   "execution_count": 24,
   "id": "21447ade",
   "metadata": {},
   "outputs": [
    {
     "data": {
      "text/html": [
       "<div>\n",
       "<style scoped>\n",
       "    .dataframe tbody tr th:only-of-type {\n",
       "        vertical-align: middle;\n",
       "    }\n",
       "\n",
       "    .dataframe tbody tr th {\n",
       "        vertical-align: top;\n",
       "    }\n",
       "\n",
       "    .dataframe thead th {\n",
       "        text-align: right;\n",
       "    }\n",
       "</style>\n",
       "<table border=\"1\" class=\"dataframe\">\n",
       "  <thead>\n",
       "    <tr style=\"text-align: right;\">\n",
       "      <th></th>\n",
       "      <th>Cost_of_vehicle</th>\n",
       "      <th>Min_coverage</th>\n",
       "      <th>Max_coverage</th>\n",
       "      <th>Condition</th>\n",
       "      <th>Amount</th>\n",
       "    </tr>\n",
       "  </thead>\n",
       "  <tbody>\n",
       "    <tr>\n",
       "      <th>count</th>\n",
       "      <td>1310.000000</td>\n",
       "      <td>1310.000000</td>\n",
       "      <td>1310.000000</td>\n",
       "      <td>1399.000000</td>\n",
       "      <td>1388.000000</td>\n",
       "    </tr>\n",
       "    <tr>\n",
       "      <th>mean</th>\n",
       "      <td>37454.274809</td>\n",
       "      <td>936.356870</td>\n",
       "      <td>11242.925160</td>\n",
       "      <td>0.929235</td>\n",
       "      <td>4117.144092</td>\n",
       "    </tr>\n",
       "    <tr>\n",
       "      <th>std</th>\n",
       "      <td>8921.428143</td>\n",
       "      <td>223.035704</td>\n",
       "      <td>7163.735952</td>\n",
       "      <td>0.256523</td>\n",
       "      <td>3151.516223</td>\n",
       "    </tr>\n",
       "    <tr>\n",
       "      <th>min</th>\n",
       "      <td>11100.000000</td>\n",
       "      <td>277.500000</td>\n",
       "      <td>2853.000000</td>\n",
       "      <td>0.000000</td>\n",
       "      <td>-999.000000</td>\n",
       "    </tr>\n",
       "    <tr>\n",
       "      <th>25%</th>\n",
       "      <td>29800.000000</td>\n",
       "      <td>745.000000</td>\n",
       "      <td>7603.000000</td>\n",
       "      <td>1.000000</td>\n",
       "      <td>1641.750000</td>\n",
       "    </tr>\n",
       "    <tr>\n",
       "      <th>50%</th>\n",
       "      <td>37300.000000</td>\n",
       "      <td>932.500000</td>\n",
       "      <td>9678.000000</td>\n",
       "      <td>1.000000</td>\n",
       "      <td>4070.000000</td>\n",
       "    </tr>\n",
       "    <tr>\n",
       "      <th>75%</th>\n",
       "      <td>45175.000000</td>\n",
       "      <td>1129.375000</td>\n",
       "      <td>11703.000000</td>\n",
       "      <td>1.000000</td>\n",
       "      <td>6039.500000</td>\n",
       "    </tr>\n",
       "    <tr>\n",
       "      <th>max</th>\n",
       "      <td>53500.000000</td>\n",
       "      <td>1337.500000</td>\n",
       "      <td>46495.680000</td>\n",
       "      <td>1.000000</td>\n",
       "      <td>59844.000000</td>\n",
       "    </tr>\n",
       "  </tbody>\n",
       "</table>\n",
       "</div>"
      ],
      "text/plain": [
       "       Cost_of_vehicle  Min_coverage  Max_coverage    Condition        Amount\n",
       "count      1310.000000   1310.000000   1310.000000  1399.000000   1388.000000\n",
       "mean      37454.274809    936.356870  11242.925160     0.929235   4117.144092\n",
       "std        8921.428143    223.035704   7163.735952     0.256523   3151.516223\n",
       "min       11100.000000    277.500000   2853.000000     0.000000   -999.000000\n",
       "25%       29800.000000    745.000000   7603.000000     1.000000   1641.750000\n",
       "50%       37300.000000    932.500000   9678.000000     1.000000   4070.000000\n",
       "75%       45175.000000   1129.375000  11703.000000     1.000000   6039.500000\n",
       "max       53500.000000   1337.500000  46495.680000     1.000000  59844.000000"
      ]
     },
     "execution_count": 24,
     "metadata": {},
     "output_type": "execute_result"
    }
   ],
   "source": [
    "df_furious.describe()"
   ]
  },
  {
   "cell_type": "code",
   "execution_count": 25,
   "id": "54ea3de5",
   "metadata": {},
   "outputs": [],
   "source": [
    "# drop na values from the dataset\n",
    "null_rows = df_furious[df_furious.isna().any(axis=1)]\n",
    "df_furious_cleaned = df_furious.dropna()\n",
    "\n",
    "# create a separate dateframe for the image and condition columns\n",
    "df_furious_cleaned = df_furious_cleaned.drop(columns=['Image_path'])\n",
    "\n",
    "# Split the expiyed date into year, month, and day\n",
    "df_furious_cleaned['Expiry_date'] = pd.to_datetime(df_furious_cleaned['Expiry_date'], errors='coerce')\n",
    "df_furious_cleaned['Expiry_year'] = df_furious_cleaned['Expiry_date'].dt.year\n",
    "df_furious_cleaned['Expiry_month'] = df_furious_cleaned['Expiry_date'].dt.month\n",
    "df_furious_cleaned['Expiry_day'] = df_furious_cleaned['Expiry_date'].dt.day\n",
    "\n",
    "# drop the original expiry date column\n",
    "df_furious_cleaned = df_furious_cleaned.drop(columns=['Expiry_date'])\n",
    "\n",
    "# Reorder the columns to have the target at the end\n",
    "df_furious_cleaned = df_furious_cleaned[[col for col in df_furious_cleaned.columns if col != 'Amount'] + ['Amount']]\n",
    "\n",
    "# export cleaned data to csv\n",
    "df_furious_cleaned.to_csv(r'C:\\Users\\JT von Seggern\\DS Masters Repos\\799S-Data-Science-Capstone\\Fast_Furious_Insured\\train_cleaned.csv', index=False)"
   ]
  },
  {
   "cell_type": "code",
   "execution_count": 26,
   "id": "5131e7ca",
   "metadata": {},
   "outputs": [],
   "source": [
    "X_train_fur, X_test_fur, y_train_fur, y_test_fur, df_fur = load_and_split_data(r'C:\\Users\\JT von Seggern\\DS Masters Repos\\799S-Data-Science-Capstone\\Fast_Furious_Insured\\train_cleaned.csv')"
   ]
  },
  {
   "cell_type": "code",
   "execution_count": 27,
   "id": "5df61160",
   "metadata": {},
   "outputs": [
    {
     "data": {
      "text/html": [
       "<div>\n",
       "<style scoped>\n",
       "    .dataframe tbody tr th:only-of-type {\n",
       "        vertical-align: middle;\n",
       "    }\n",
       "\n",
       "    .dataframe tbody tr th {\n",
       "        vertical-align: top;\n",
       "    }\n",
       "\n",
       "    .dataframe thead th {\n",
       "        text-align: right;\n",
       "    }\n",
       "</style>\n",
       "<table border=\"1\" class=\"dataframe\">\n",
       "  <thead>\n",
       "    <tr style=\"text-align: right;\">\n",
       "      <th></th>\n",
       "      <th>Insurance_company</th>\n",
       "      <th>Cost_of_vehicle</th>\n",
       "      <th>Min_coverage</th>\n",
       "      <th>Max_coverage</th>\n",
       "      <th>Condition</th>\n",
       "      <th>Expiry_year</th>\n",
       "      <th>Expiry_month</th>\n",
       "      <th>Expiry_day</th>\n",
       "    </tr>\n",
       "  </thead>\n",
       "  <tbody>\n",
       "    <tr>\n",
       "      <th>0</th>\n",
       "      <td>0.645100</td>\n",
       "      <td>-1.260901</td>\n",
       "      <td>-1.260901</td>\n",
       "      <td>-0.646659</td>\n",
       "      <td>0.286716</td>\n",
       "      <td>0.936097</td>\n",
       "      <td>0.360534</td>\n",
       "      <td>0.730154</td>\n",
       "    </tr>\n",
       "    <tr>\n",
       "      <th>1</th>\n",
       "      <td>-0.937221</td>\n",
       "      <td>-1.428930</td>\n",
       "      <td>-1.428930</td>\n",
       "      <td>-0.698798</td>\n",
       "      <td>0.286716</td>\n",
       "      <td>1.402353</td>\n",
       "      <td>-0.757068</td>\n",
       "      <td>-1.157334</td>\n",
       "    </tr>\n",
       "    <tr>\n",
       "      <th>2</th>\n",
       "      <td>-0.620757</td>\n",
       "      <td>1.696396</td>\n",
       "      <td>1.696396</td>\n",
       "      <td>0.270993</td>\n",
       "      <td>0.286716</td>\n",
       "      <td>0.469842</td>\n",
       "      <td>-0.198267</td>\n",
       "      <td>1.673898</td>\n",
       "    </tr>\n",
       "    <tr>\n",
       "      <th>3</th>\n",
       "      <td>0.961565</td>\n",
       "      <td>-0.140713</td>\n",
       "      <td>-0.140713</td>\n",
       "      <td>-0.299064</td>\n",
       "      <td>0.286716</td>\n",
       "      <td>0.936097</td>\n",
       "      <td>0.081134</td>\n",
       "      <td>1.202026</td>\n",
       "    </tr>\n",
       "    <tr>\n",
       "      <th>4</th>\n",
       "      <td>0.961565</td>\n",
       "      <td>-0.678403</td>\n",
       "      <td>-0.678403</td>\n",
       "      <td>-0.465909</td>\n",
       "      <td>0.286716</td>\n",
       "      <td>-0.462669</td>\n",
       "      <td>-1.036468</td>\n",
       "      <td>-0.331558</td>\n",
       "    </tr>\n",
       "    <tr>\n",
       "      <th>...</th>\n",
       "      <td>...</td>\n",
       "      <td>...</td>\n",
       "      <td>...</td>\n",
       "      <td>...</td>\n",
       "      <td>...</td>\n",
       "      <td>...</td>\n",
       "      <td>...</td>\n",
       "      <td>...</td>\n",
       "    </tr>\n",
       "    <tr>\n",
       "      <th>1035</th>\n",
       "      <td>0.961565</td>\n",
       "      <td>1.147504</td>\n",
       "      <td>1.147504</td>\n",
       "      <td>0.100671</td>\n",
       "      <td>0.286716</td>\n",
       "      <td>-0.928924</td>\n",
       "      <td>-1.595269</td>\n",
       "      <td>1.673898</td>\n",
       "    </tr>\n",
       "    <tr>\n",
       "      <th>1036</th>\n",
       "      <td>0.328636</td>\n",
       "      <td>-0.521577</td>\n",
       "      <td>-0.521577</td>\n",
       "      <td>-0.417246</td>\n",
       "      <td>0.286716</td>\n",
       "      <td>0.003587</td>\n",
       "      <td>-0.757068</td>\n",
       "      <td>-0.685462</td>\n",
       "    </tr>\n",
       "    <tr>\n",
       "      <th>1037</th>\n",
       "      <td>1.594493</td>\n",
       "      <td>0.441785</td>\n",
       "      <td>0.441785</td>\n",
       "      <td>-0.118314</td>\n",
       "      <td>0.286716</td>\n",
       "      <td>0.003587</td>\n",
       "      <td>-0.477667</td>\n",
       "      <td>1.319994</td>\n",
       "    </tr>\n",
       "    <tr>\n",
       "      <th>1038</th>\n",
       "      <td>0.645100</td>\n",
       "      <td>-1.484939</td>\n",
       "      <td>-1.484939</td>\n",
       "      <td>-0.716178</td>\n",
       "      <td>0.286716</td>\n",
       "      <td>-1.395180</td>\n",
       "      <td>-1.036468</td>\n",
       "      <td>-1.747174</td>\n",
       "    </tr>\n",
       "    <tr>\n",
       "      <th>1039</th>\n",
       "      <td>-0.304293</td>\n",
       "      <td>0.609813</td>\n",
       "      <td>0.609813</td>\n",
       "      <td>-0.066175</td>\n",
       "      <td>0.286716</td>\n",
       "      <td>-0.928924</td>\n",
       "      <td>0.919335</td>\n",
       "      <td>1.084058</td>\n",
       "    </tr>\n",
       "  </tbody>\n",
       "</table>\n",
       "<p>1040 rows × 8 columns</p>\n",
       "</div>"
      ],
      "text/plain": [
       "      Insurance_company  Cost_of_vehicle  Min_coverage  Max_coverage  \\\n",
       "0              0.645100        -1.260901     -1.260901     -0.646659   \n",
       "1             -0.937221        -1.428930     -1.428930     -0.698798   \n",
       "2             -0.620757         1.696396      1.696396      0.270993   \n",
       "3              0.961565        -0.140713     -0.140713     -0.299064   \n",
       "4              0.961565        -0.678403     -0.678403     -0.465909   \n",
       "...                 ...              ...           ...           ...   \n",
       "1035           0.961565         1.147504      1.147504      0.100671   \n",
       "1036           0.328636        -0.521577     -0.521577     -0.417246   \n",
       "1037           1.594493         0.441785      0.441785     -0.118314   \n",
       "1038           0.645100        -1.484939     -1.484939     -0.716178   \n",
       "1039          -0.304293         0.609813      0.609813     -0.066175   \n",
       "\n",
       "      Condition  Expiry_year  Expiry_month  Expiry_day  \n",
       "0      0.286716     0.936097      0.360534    0.730154  \n",
       "1      0.286716     1.402353     -0.757068   -1.157334  \n",
       "2      0.286716     0.469842     -0.198267    1.673898  \n",
       "3      0.286716     0.936097      0.081134    1.202026  \n",
       "4      0.286716    -0.462669     -1.036468   -0.331558  \n",
       "...         ...          ...           ...         ...  \n",
       "1035   0.286716    -0.928924     -1.595269    1.673898  \n",
       "1036   0.286716     0.003587     -0.757068   -0.685462  \n",
       "1037   0.286716     0.003587     -0.477667    1.319994  \n",
       "1038   0.286716    -1.395180     -1.036468   -1.747174  \n",
       "1039   0.286716    -0.928924      0.919335    1.084058  \n",
       "\n",
       "[1040 rows x 8 columns]"
      ]
     },
     "execution_count": 27,
     "metadata": {},
     "output_type": "execute_result"
    }
   ],
   "source": [
    "X_train_fur"
   ]
  },
  {
   "cell_type": "code",
   "execution_count": 28,
   "id": "43f10452",
   "metadata": {},
   "outputs": [
    {
     "name": "stdout",
     "output_type": "stream",
     "text": [
      "Root Mean Squared Error: 4253.0497\n"
     ]
    }
   ],
   "source": [
    "# create baseline regression model for furious dataset\n",
    "model_fur_baseline, y_pred_fur_baseline, fur_baseline_rmse = lin_regression(X_train_fur, y_train_fur, X_test_fur, y_test_fur)"
   ]
  },
  {
   "cell_type": "code",
   "execution_count": 29,
   "id": "c330991d",
   "metadata": {},
   "outputs": [
    {
     "name": "stdout",
     "output_type": "stream",
     "text": [
      "Root Mean Squared Error: 4247.0460\n"
     ]
    }
   ],
   "source": [
    "# forward selection on furious dataset\n",
    "X_fur_forward, fur_forward_features = forward_feature_selection(X_train_fur, y_train_fur)\n",
    "model_fur_forward, y_pred_fur_forward, fur_forward_rmse = lin_regression(X_fur_forward, y_train_fur, X_test_fur[X_fur_forward.columns], y_test_fur)"
   ]
  },
  {
   "cell_type": "code",
   "execution_count": 30,
   "id": "666533d9",
   "metadata": {},
   "outputs": [
    {
     "name": "stdout",
     "output_type": "stream",
     "text": [
      "Root Mean Squared Error: 4227.6983\n"
     ]
    }
   ],
   "source": [
    "# backward selection on the furious dataset\n",
    "X_fur_backward, fur_backward_features = backward_feature_selection(X_train_fur, y_train_fur)\n",
    "model_fur_backward, y_pred_fur_backward, fur_backward_rmse = lin_regression(X_fur_backward, y_train_fur, X_test_fur[X_fur_backward.columns], y_test_fur)"
   ]
  },
  {
   "cell_type": "code",
   "execution_count": 31,
   "id": "13043ac8",
   "metadata": {},
   "outputs": [
    {
     "name": "stdout",
     "output_type": "stream",
     "text": [
      "Root Mean Squared Error w/ PCA: 4233.5825\n"
     ]
    }
   ],
   "source": [
    "# Principal Components Regression on fast furious and insured dataset\n",
    "model_fur_pca, y_pred_fur_pca, fur_pca_rmse = pca_or_plsr(X_train_fur, y_train_fur, X_test_fur, y_test_fur, components=5, choice='pca')"
   ]
  },
  {
   "cell_type": "code",
   "execution_count": 32,
   "id": "6818f725",
   "metadata": {},
   "outputs": [
    {
     "name": "stdout",
     "output_type": "stream",
     "text": [
      "Root Mean Squared Error w/ PLS: 4253.2458\n"
     ]
    }
   ],
   "source": [
    "# Partial Least Squares Regression on fast furious and insured dataset\n",
    "model_fur_plsr, y_pred_fur_plsr, fur_plsr_rmse = pca_or_plsr(X_train_fur, y_train_fur, X_test_fur, y_test_fur, components=5, choice='plsr')"
   ]
  },
  {
   "cell_type": "code",
   "execution_count": 33,
   "id": "5dfaaea2",
   "metadata": {},
   "outputs": [],
   "source": [
    "# Store the results in a dataframe\n",
    "results_fur = pd.DataFrame({\n",
    "    'model': ['Baseline', 'Forward Selection', 'Backward Selection', 'PCA', 'PLSR'],\n",
    "    'rmse': [fur_baseline_rmse, fur_forward_rmse, fur_backward_rmse, fur_pca_rmse, fur_plsr_rmse]\n",
    "})"
   ]
  },
  {
   "cell_type": "markdown",
   "id": "16940ee1",
   "metadata": {},
   "source": [
    "### Visualize results"
   ]
  },
  {
   "cell_type": "code",
   "execution_count": 42,
   "id": "6093566e",
   "metadata": {},
   "outputs": [
    {
     "data": {
      "image/png": "[encoded data removed]",
      "text/plain": [
       "<Figure size 1427.62x800 with 1 Axes>"
      ]
     },
     "metadata": {},
     "output_type": "display_data"
    }
   ],
   "source": [
    "# Visualize the results\n",
    "results_car['Dataset'] = 'Car Claims'\n",
    "results_ins['Dataset'] = 'Insurance Claims'\n",
    "results_fur['Dataset'] = 'Fast, Furious, and Insured'\n",
    "\n",
    "results_all = pd.concat([results_car, results_ins, results_fur], ignore_index=True)\n",
    "\n",
    "g = sns.catplot(\n",
    "    data=results_all,\n",
    "    x='model',\n",
    "    y='rmse',\n",
    "    hue='Dataset',\n",
    "    kind='bar',\n",
    "    height=8,\n",
    "    aspect=1.5,\n",
    "    dodge=True\n",
    ")\n",
    "g.fig.suptitle('RMSE of Different Models on Different Datasets', y=1.02)\n",
    "g.set_axis_labels('Model', 'Root Mean Squared Error (RMSE)')\n",
    "g.set_xticklabels(rotation=45)\n",
    "g._legend.set_title('Dataset')\n",
    "\n",
    "# Set y-axis to log scale\n",
    "g.ax.set_yscale('log')\n",
    "\n",
    "plt.tight_layout()\n",
    "plt.show()"
   ]
  }
 ],
 "metadata": {
  "kernelspec": {
   "display_name": "Python 3",
   "language": "python",
   "name": "python3"
  },
  "language_info": {
   "codemirror_mode": {
    "name": "ipython",
    "version": 3
   },
   "file_extension": ".py",
   "mimetype": "text/x-python",
   "name": "python",
   "nbconvert_exporter": "python",
   "pygments_lexer": "ipython3",
   "version": "3.13.2"
  }
 },
 "nbformat": 4,
 "nbformat_minor": 5
}
