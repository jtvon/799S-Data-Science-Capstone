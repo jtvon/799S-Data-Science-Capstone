{
 "cells": [
  {
   "cell_type": "code",
   "execution_count": 140,
   "id": "d7d70b7b-9fc3-45f1-adcc-5ef4a8f27736",
   "metadata": {},
   "outputs": [],
   "source": [
    "import numpy as np\n",
    "import pandas as pd\n",
    "import scipy\n",
    "import matplotlib.pyplot as plt\n",
    "from sklearn.metrics import root_mean_squared_error\n",
    "import statsmodels.api as sm\n",
    "from statsmodels.regression.linear_model import OLS\n",
    "from sklearn.svm import SVC\n",
    "from sklearn.linear_model import LogisticRegression\n",
    "from sklearn.metrics import log_loss\n",
    "from sklearn.model_selection import train_test_split\n",
    "from sklearn.model_selection import GridSearchCV\n",
    "from sklearn.metrics import accuracy_score\n",
    "from sklearn.preprocessing import StandardScaler\n"
   ]
  },
  {
   "cell_type": "markdown",
   "id": "defb1d32-8769-4cab-9ca9-d465317d458b",
   "metadata": {},
   "source": [
    "# Logistic Regression"
   ]
  },
  {
   "cell_type": "code",
   "execution_count": 126,
   "id": "4e25a5e4-c00b-4a14-9e52-36f7567fb90c",
   "metadata": {},
   "outputs": [
    {
     "data": {
      "text/plain": [
       "0.46102107129920566"
      ]
     },
     "execution_count": 126,
     "metadata": {},
     "output_type": "execute_result"
    }
   ],
   "source": [
    "num = 10000\n",
    "np.random.seed(0)\n",
    "X = np.random.normal(0, 1, (num,))\n",
    "true_prob = 1 / (1 + np.exp(2 * X + 0.5))\n",
    "Y_random = np.random.binomial(1, true_prob)\n",
    "model = LogisticRegression()\n",
    "X_shaped = X.reshape(-1, 1)\n",
    "model.fit(X_shaped, Y_random)\n",
    "Y_pred = model.predict_proba(X_shaped)[:,1]\n",
    "log_loss(Y_random, Y_pred)"
   ]
  },
  {
   "cell_type": "code",
   "execution_count": 127,
   "id": "194757b3-b9ff-48ef-a491-2a1db732ee39",
   "metadata": {},
   "outputs": [
    {
     "name": "stdout",
     "output_type": "stream",
     "text": [
      "[[-1.98777471]]\n",
      "[-0.46217235]\n"
     ]
    }
   ],
   "source": [
    "print(model.coef_)\n",
    "print(model.intercept_)"
   ]
  },
  {
   "cell_type": "code",
   "execution_count": 108,
   "id": "96cb3987-aca9-4bc3-a2dd-412de2992f9d",
   "metadata": {},
   "outputs": [
    {
     "data": {
      "text/plain": [
       "[<matplotlib.lines.Line2D at 0x305234e90>]"
      ]
     },
     "execution_count": 108,
     "metadata": {},
     "output_type": "execute_result"
    },
    {
     "data": {
      "image/png": "[encoded data removed]",
      "text/plain": [
       "<Figure size 640x480 with 1 Axes>"
      ]
     },
     "metadata": {},
     "output_type": "display_data"
    }
   ],
   "source": [
    "sorted_idx = np.argsort(X)\n",
    "X_sorted = X[sorted_idx]\n",
    "Y_pred_sorted = Y_pred[sorted_idx]\n",
    "true_prob_sorted = true_prob[sorted_idx]\n",
    "plt.plot(X_sorted, Y_pred_sorted)\n",
    "plt.plot(X_sorted, true_prob_sorted, \".\")"
   ]
  },
  {
   "cell_type": "code",
   "execution_count": 111,
   "id": "2628818e-f7bf-4d44-9edb-57dc4d8dc939",
   "metadata": {},
   "outputs": [
    {
     "data": {
      "text/plain": [
       "0.42857371408692646"
      ]
     },
     "execution_count": 111,
     "metadata": {},
     "output_type": "execute_result"
    }
   ],
   "source": [
    "num = 100\n",
    "np.random.seed(0)\n",
    "X = np.random.normal(0, 1, (num,))\n",
    "true_prob = 1 / (1 + np.exp(2 * X + 0.5))\n",
    "Y_random = np.random.binomial(1, true_prob)\n",
    "model = LogisticRegression()\n",
    "X_shaped = X.reshape(-1, 1)\n",
    "model.fit(X_shaped, Y_random)\n",
    "Y_pred = model.predict_proba(X_shaped)[:,1]\n",
    "log_loss(Y_random, Y_pred)\n",
    "\n",
    "num = 100000\n",
    "np.random.seed(0)\n",
    "X1 = np.random.normal(0, 1, (num,))\n",
    "X2 = np.random.normal(0, 1, (num,))\n",
    "X = np.vstack((X1, X2)).T\n",
    "true_prob = 1 / (1 + np.exp(2 * X1 - X2 + 0.5))\n",
    "Y_random = np.random.binomial(1, true_prob)\n",
    "model = LogisticRegression()\n",
    "model.fit(X, Y_random)\n",
    "Y_pred = model.predict_proba(X)[:,1]\n",
    "log_loss(Y_true, Y_pred)"
   ]
  },
  {
   "cell_type": "code",
   "execution_count": 112,
   "id": "c00a5cc6-0e80-487c-af07-47f73103c9ca",
   "metadata": {},
   "outputs": [
    {
     "name": "stdout",
     "output_type": "stream",
     "text": [
      "[[-2.0058711  0.9960015]]\n",
      "[-0.5159457]\n"
     ]
    }
   ],
   "source": [
    "print(model.coef_)\n",
    "print(model.intercept_)"
   ]
  },
  {
   "cell_type": "markdown",
   "id": "fb1ee4fc-6585-4097-b200-8f804dfef4f1",
   "metadata": {},
   "source": [
    "# Feature scaling"
   ]
  },
  {
   "cell_type": "code",
   "execution_count": 135,
   "id": "78b9495a-cfb6-4080-a2ac-c266c4003c2a",
   "metadata": {},
   "outputs": [],
   "source": [
    "num = 1000\n",
    "cols = 1000\n",
    "np.random.seed(0)\n",
    "X = np.random.normal(0, 1, (num, cols))\n",
    "coefs = np.random.normal(0, 1, (cols,))**4\n",
    "Y = np.random.binomial(1, 1 / (1 + np.exp(X @ coefs / np.std(X @ coefs))))"
   ]
  },
  {
   "cell_type": "code",
   "execution_count": 136,
   "id": "24be3ad0-466b-47fe-8459-e411615d315b",
   "metadata": {},
   "outputs": [
    {
     "data": {
      "text/plain": [
       "0.6475315503198419"
      ]
     },
     "execution_count": 136,
     "metadata": {},
     "output_type": "execute_result"
    }
   ],
   "source": [
    "X_train, X_test, Y_train, Y_test = train_test_split(X, Y, test_size=0.3)\n",
    "\n",
    "model = LogisticRegression(penalty = 'l1', solver = 'liblinear', C = 0.1)\n",
    "model.fit(X_train, Y_train)\n",
    "Y_pred = model.predict_proba(X_test)\n",
    "log_loss(Y_test, Y_pred)"
   ]
  },
  {
   "cell_type": "code",
   "execution_count": 137,
   "id": "57e80992-c74a-46c3-a9d3-39d5b09fb60a",
   "metadata": {},
   "outputs": [
    {
     "data": {
      "text/plain": [
       "1.748520482797653"
      ]
     },
     "execution_count": 137,
     "metadata": {},
     "output_type": "execute_result"
    }
   ],
   "source": [
    "model2 = LogisticRegression()\n",
    "model2.fit(X_train, Y_train)\n",
    "Y_pred = model2.predict_proba(X_test)\n",
    "log_loss(Y_test, Y_pred)"
   ]
  },
  {
   "cell_type": "code",
   "execution_count": 143,
   "id": "2c80e5cc-a077-47b6-a27a-5d9e8df84155",
   "metadata": {},
   "outputs": [
    {
     "data": {
      "text/plain": [
       "1.8845919961639879"
      ]
     },
     "execution_count": 143,
     "metadata": {},
     "output_type": "execute_result"
    }
   ],
   "source": [
    "X_first_mult = X * np.hstack((10 * np.ones(500), np.ones(500)))\n",
    "X_train, X_test, Y_train, Y_test = train_test_split(X_first_mult, Y, test_size=0.3)\n",
    "\n",
    "model = LogisticRegression(penalty = 'l1', solver = 'liblinear', C = 0.1)\n",
    "model.fit(X_train, Y_train)\n",
    "Y_pred = model.predict_proba(X_test)\n",
    "log_loss(Y_test, Y_pred)"
   ]
  },
  {
   "cell_type": "code",
   "execution_count": 145,
   "id": "63b8f6ca-9396-4380-99c4-b46ec3648139",
   "metadata": {},
   "outputs": [
    {
     "data": {
      "text/plain": [
       "0.7014263091675107"
      ]
     },
     "execution_count": 145,
     "metadata": {},
     "output_type": "execute_result"
    }
   ],
   "source": [
    "scaler = StandardScaler()\n",
    "X_scaled = scaler.fit_transform(X_first_mult)\n",
    "X_train, X_test, Y_train, Y_test = train_test_split(X_scaled, Y, test_size=0.3)\n",
    "\n",
    "model = LogisticRegression(penalty = 'l1', solver = 'liblinear', C = 0.1)\n",
    "model.fit(X_train, Y_train)\n",
    "Y_pred = model.predict_proba(X_test)\n",
    "log_loss(Y_test, Y_pred)"
   ]
  },
  {
   "cell_type": "markdown",
   "id": "dcbb31c3-a06b-4447-a370-7ea8e5301d8c",
   "metadata": {},
   "source": [
    "# Support Vector Machines"
   ]
  },
  {
   "cell_type": "code",
   "execution_count": 129,
   "id": "a8bb729d-5988-4619-b97c-175e3c09862b",
   "metadata": {},
   "outputs": [],
   "source": [
    "num = 10000\n",
    "X1 = np.random.normal(0, 1, (num,))\n",
    "X2 = np.random.normal(0, 1, (num,))\n",
    "Y = X1 * X2 + np.random.normal(0, 0.1, (num,)) > 0\n",
    "X = np.vstack((X1, X2)).T"
   ]
  },
  {
   "cell_type": "code",
   "execution_count": 130,
   "id": "ac7513c6-ba54-4226-92c4-cf548709c594",
   "metadata": {},
   "outputs": [
    {
     "data": {
      "text/plain": [
       "9100"
      ]
     },
     "execution_count": 130,
     "metadata": {},
     "output_type": "execute_result"
    }
   ],
   "source": [
    "svc = SVC(kernel = 'poly', degree = 2)\n",
    "svc.fit(X, Y)\n",
    "(svc.predict(X) == Y).sum()"
   ]
  },
  {
   "cell_type": "code",
   "execution_count": 131,
   "id": "5c436103-8ab9-4294-b69e-61a965fa7fcf",
   "metadata": {},
   "outputs": [
    {
     "data": {
      "text/plain": [
       "5032"
      ]
     },
     "execution_count": 131,
     "metadata": {},
     "output_type": "execute_result"
    }
   ],
   "source": [
    "svc2 = SVC(kernel = 'linear')\n",
    "svc2.fit(X, Y)\n",
    "(svc2.predict(X) == Y).sum()"
   ]
  },
  {
   "cell_type": "code",
   "execution_count": 133,
   "id": "27172431-a156-4387-9587-d0d58541ce1d",
   "metadata": {},
   "outputs": [
    {
     "name": "stdout",
     "output_type": "stream",
     "text": [
      "Best params {'C': 10, 'degree': 2}\n",
      "Best CV accuracy 0.9107000000000001\n",
      "Train accuracy 0.9098\n"
     ]
    }
   ],
   "source": [
    "param_grid = {\n",
    "    'C': [0.1, 1, 10],\n",
    "    'degree': [2, 3, 4]\n",
    "}\n",
    "\n",
    "grid = GridSearchCV(svc, param_grid, cv=5, scoring='accuracy', n_jobs=-1)\n",
    "grid.fit(X, Y)\n",
    "\n",
    "# Best parameters\n",
    "print(\"Best params\", grid.best_params_)\n",
    "# Best accuracy\n",
    "print(\"Best CV accuracy\", grid.best_score_)\n",
    "\n",
    "best_model = grid.best_estimator_\n",
    "train_accuracy = accuracy_score(Y, best_model.predict(X))\n",
    "print(\"Train accuracy\", train_accuracy)"
   ]
  },
  {
   "cell_type": "code",
   "execution_count": null,
   "id": "363446d4-048f-438c-92eb-f09d13885fe5",
   "metadata": {},
   "outputs": [],
   "source": []
  }
 ],
 "metadata": {
  "kernelspec": {
   "display_name": "Python 3 (ipykernel)",
   "language": "python",
   "name": "python3"
  },
  "language_info": {
   "codemirror_mode": {
    "name": "ipython",
    "version": 3
   },
   "file_extension": ".py",
   "mimetype": "text/x-python",
   "name": "python",
   "nbconvert_exporter": "python",
   "pygments_lexer": "ipython3",
   "version": "3.12.0"
  }
 },
 "nbformat": 4,
 "nbformat_minor": 5
}
